{
 "cells": [
  {
   "cell_type": "markdown",
   "metadata": {},
   "source": [
    "# 基础知识2\n",
    "\n",
    "## 交叉验证 Cross Validation\n",
    "\n",
    "\n",
    "![image-20190731094141347](img/tutorial-img/image-20190731094141347.png)\n",
    "\n",
    "在上一章教程中，我们简单的提到了交叉验证的思想，现在我们来完整的介绍这个概念。交叉验证的具体做法分为以下三步：\n",
    "\n",
    "1. 将数据随机分为K份，上图中我们随机将数据分为4份，得到4组数据。其中蓝色部分为训练数据，绿色部分为测试数据。\n",
    "2. 对于每一组数据，训练模型并且进行测试，得到模型的准确度。\n",
    "3. 将各模型得到的准确度取平均，得到的准确度平均值就是最终用于评估模型结果的值。\n",
    "\n",
    "所以，这个想法的核心是利用尽可能多的数据进行训练和测试，部分规避因为拆分数据的随机性带来的结果的波动。这个简单的想法就是交叉验证（Cross Validation）。在交叉验证中，大家常会看到**K-fold**这个词，K就是将数据拆分的份数。比如我们的示意图，其实就是4-fold Cross Validation。"
   ]
  }
 ],
 "metadata": {
  "kernelspec": {
   "display_name": "Python 3",
   "language": "python",
   "name": "python3"
  },
  "language_info": {
   "codemirror_mode": {
    "name": "ipython",
    "version": 3
   },
   "file_extension": ".py",
   "mimetype": "text/x-python",
   "name": "python",
   "nbconvert_exporter": "python",
   "pygments_lexer": "ipython3",
   "version": "3.6.0"
  }
 },
 "nbformat": 4,
 "nbformat_minor": 2
}
