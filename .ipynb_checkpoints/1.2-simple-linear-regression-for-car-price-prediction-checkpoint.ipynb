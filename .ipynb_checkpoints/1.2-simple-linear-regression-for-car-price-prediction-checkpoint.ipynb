{
 "cells": [
  {
   "cell_type": "markdown",
   "metadata": {},
   "source": [
    "# Introduction to Simple Linear Regression\n",
    "\n",
    "在上一章中，我们介绍了简单线性回归（Simple Linear Regression）的基本知识。希望帮助你对简单线性回归的原理有了一个大概的了解。\n",
    "\n",
    "现在，我们进入这个教程的第一个实战环节。在这一章中，我们会用Python来分析一个简单的二手车数据库，试着分析车辆使用年限（以下简称“车龄”）和价格的关系。\n",
    "\n",
    "在本章的教程中，你会学到：\n",
    "* 如何将数据可视化，观察数据之间的线性关系\n",
    "* 如何建立简单的线性模型\n",
    "* 如何用建立的模型进行预测\n",
    "* 如何理解模型的结果\n",
    "\n",
    "## 1. 准备工作\n",
    "\n",
    "首先我们来引入这一章需要的Python库，简单介绍一下：\n",
    "* Pandas相当于Python版本的Excel，Python通过Pandas来读取数据。\n",
    "* Matplotlib是数据可视化的工具，就像Excel中各种图表\n",
    "* Numpy是计算工具，它包含一些很方便的计算方法，比如说求和、平均值、中位数等等。\n",
    "* `%matplotlib inline`的目的是让matplotlib做的图在这个notebook里面显示出来。\n",
    "\n",
    "以上工具都是Data Science领域最常用到的工具，大家以后会经常看到。\n",
    "\n",
    "如果你对Pandas和Numpy不是很熟悉，这里有一个很好的练习：<Xiaolai's Tutorial>\n",
    "\n",
    "但在这个教程中，我们不需要Pandas和Numpy的基础。"
   ]
  },
  {
   "cell_type": "code",
   "execution_count": 1,
   "metadata": {
    "collapsed": false
   },
   "outputs": [],
   "source": [
    "# 引入各种分析需要的库\n",
    "import pandas as pd\n",
    "import matplotlib.pyplot as plt\n",
    "import numpy as np\n",
    "\n",
    "# 这行代码是让matplotlib绘制的图表在notebook中显示出来\n",
    "%matplotlib inline"
   ]
  },
  {
   "cell_type": "markdown",
   "metadata": {},
   "source": [
    "## 2. 读取数据\n",
    "\n",
    "接着，我们来读取二手车数据，看一看数据中包含的值。\n",
    "\n",
    "**(1) 读入数据**\n",
    "\n",
    "pd是pandas的简写，我们在引入时用的语句的时候声明了`import pandas as pd`。\n",
    "\n",
    "下面代码第一行使用pandas的read_csv函数，读取了指定路径的csv文件，然后把csv文件中的数据存储在auto_df变量中。\n",
    "\n",
    "此时，auto_df的数据类型叫做dataframe，这是一个类似Excel表格的概念。此处你可以简单理解为auto_df是一个存储在python中的Excel表格，自带一些很方便的函数（比如马上会介绍的head函数）。\n",
    "\n",
    "`index_col=0`的意思是将数据表的第0列作为索引。你可以看到粗体的黑色数字，他们是csv文件中的第0列的值。"
   ]
  },
  {
   "cell_type": "code",
   "execution_count": 14,
   "metadata": {},
   "outputs": [],
   "source": [
    "auto_df = pd.read_csv('./data/auto_simple.csv', index_col=0)"
   ]
  },
  {
   "cell_type": "markdown",
   "metadata": {},
   "source": [
    "**(2) 显示数据**\n",
    "\n",
    "`head()`函数可以打印出数据表格（dataframe）的前5行。当遇到很大的数据表时，打印全部表格就会很浪费时间和内存。所以`head()`函数让我们快速方便的查看数据表的结构。"
   ]
  },
  {
   "cell_type": "code",
   "execution_count": 13,
   "metadata": {},
   "outputs": [
    {
     "data": {
      "text/html": [
       "<div>\n",
       "<style scoped>\n",
       "    .dataframe tbody tr th:only-of-type {\n",
       "        vertical-align: middle;\n",
       "    }\n",
       "\n",
       "    .dataframe tbody tr th {\n",
       "        vertical-align: top;\n",
       "    }\n",
       "\n",
       "    .dataframe thead th {\n",
       "        text-align: right;\n",
       "    }\n",
       "</style>\n",
       "<table border=\"1\" class=\"dataframe\">\n",
       "  <thead>\n",
       "    <tr style=\"text-align: right;\">\n",
       "      <th></th>\n",
       "      <th>ageOfCar</th>\n",
       "      <th>price</th>\n",
       "    </tr>\n",
       "  </thead>\n",
       "  <tbody>\n",
       "    <tr>\n",
       "      <th>0</th>\n",
       "      <td>17</td>\n",
       "      <td>1799</td>\n",
       "    </tr>\n",
       "    <tr>\n",
       "      <th>1</th>\n",
       "      <td>17</td>\n",
       "      <td>2249</td>\n",
       "    </tr>\n",
       "    <tr>\n",
       "      <th>2</th>\n",
       "      <td>14</td>\n",
       "      <td>1950</td>\n",
       "    </tr>\n",
       "    <tr>\n",
       "      <th>3</th>\n",
       "      <td>15</td>\n",
       "      <td>2950</td>\n",
       "    </tr>\n",
       "    <tr>\n",
       "      <th>4</th>\n",
       "      <td>18</td>\n",
       "      <td>1999</td>\n",
       "    </tr>\n",
       "  </tbody>\n",
       "</table>\n",
       "</div>"
      ],
      "text/plain": [
       "   ageOfCar  price\n",
       "0        17   1799\n",
       "1        17   2249\n",
       "2        14   1950\n",
       "3        15   2950\n",
       "4        18   1999"
      ]
     },
     "execution_count": 13,
     "metadata": {},
     "output_type": "execute_result"
    }
   ],
   "source": [
    "auto_df.head()"
   ]
  },
  {
   "cell_type": "markdown",
   "metadata": {},
   "source": [
    "**(3) 数据字典**\n",
    "- ageOfCar: 车辆的使用年数。\n",
    "- price: 二手车的出售价格。\n",
    "\n",
    "由于我们这一章的研究课题是用车龄预测价格，所以车龄（ageOfCar）是predictor，价格（price）是outcome。"
   ]
  },
  {
   "cell_type": "markdown",
   "metadata": {},
   "source": [
    "**(4) 数据量**\n",
    "\n",
    "Pandas的`shape()`函数可以给出数据表格（dataframe）的行数和列数，以(a,b)的形式输出。a指的行数，也就是吧observation的数量；b指的列数，也就是feature的数量。"
   ]
  },
  {
   "cell_type": "code",
   "execution_count": 50,
   "metadata": {
    "collapsed": false
   },
   "outputs": [
    {
     "data": {
      "text/plain": [
       "(120, 2)"
      ]
     },
     "execution_count": 50,
     "metadata": {},
     "output_type": "execute_result"
    }
   ],
   "source": [
    "auto_df.shape"
   ]
  },
  {
   "cell_type": "markdown",
   "metadata": {},
   "source": [
    "所以这个数据库中，包含120辆二手车的信息，2个feature（price和ageOfCar）。"
   ]
  },
  {
   "cell_type": "markdown",
   "metadata": {},
   "source": [
    "**(5) 数据可视化**"
   ]
  },
  {
   "cell_type": "markdown",
   "metadata": {},
   "source": [
    "虽然我们了解了数据的内容，但是我们不知道的是数据之间有什么样的关系。既然我们此处要用simple linear regression来建立价格（price）和车龄（ageOfCar）之间的关系，那么这两个数据之间也需要符合线性关系。\n",
    "\n",
    "`plot()`函数可以将数据表（dataframe）中的数据可视化，帮助我们观察数据之间的关系。现在，我们用下面的代码对数据进行可视化，看一看车龄和售价之间的关系。"
   ]
  },
  {
   "cell_type": "code",
   "execution_count": 12,
   "metadata": {
    "collapsed": false
   },
   "outputs": [
    {
     "data": {
      "text/plain": [
       "<matplotlib.axes._subplots.AxesSubplot at 0x11d1de940>"
      ]
     },
     "execution_count": 12,
     "metadata": {},
     "output_type": "execute_result"
    },
    {
     "data": {
      "image/png": "[encoded data removed]",
      "text/plain": [
       "<Figure size 432x288 with 1 Axes>"
      ]
     },
     "metadata": {
      "needs_background": "light"
     },
     "output_type": "display_data"
    }
   ],
   "source": [
    "auto_df.plot(kind='scatter', x='ageOfCar', y='price', title='Explore Used Car Data')"
   ]
  },
  {
   "cell_type": "markdown",
   "metadata": {},
   "source": [
    "`plot()`中参数的功能是：\n",
    "* kind: 图标的种类。此处我们观察数据之间的关系，用散点图（scatter plot）观察数据分布的情况。\n",
    "* x: x轴的数值，我们用x轴表示车龄（ageOfCar），用feature的名称即可，python会在auto_df这个数据表格中找到对应的数值。\n",
    "* y: y轴的数值，我们用y轴表示价格（price）。\n",
    "* title: 图片的标题。"
   ]
  },
  {
   "cell_type": "markdown",
   "metadata": {},
   "source": [
    "从散点图（scatter plot）中我们看出，价格和车龄之间有一个大致的线性关系，随着车龄的增加，价格按照一个大致的比例降低。\n",
    "所以，simple linear regression看起来似乎是可以适用于描绘车龄（ageOfCar）和价格（price）之间的关系。\n",
    "\n",
    "接下来我们来建立一个简单的线性模型，量化价格和车龄之间的关系，看看结果如何。"
   ]
  },
  {
   "cell_type": "markdown",
   "metadata": {},
   "source": [
    "## 3. 建立模型（Simple Linear Model）\n",
    "\n",
    "**(1) 数据预处理**\n",
    "\n",
    "如上一章介绍，通过simple linear regression，我们会得到一个线性模型，它的公式是：\n",
    "\n",
    "$y = \\beta_0 + \\beta_1x$\n",
    "\n",
    "以上各部分具体含义是：\n",
    "- $y$ 是outcome，在这里指的是车的价格（price）\n",
    "- $x$ 是predictor，在这里指的是车的使用年限（ageOfCar）\n",
    "- $\\beta_0$ 是截距（intercept）\n",
    "- $\\beta_1$ x的系数（coefficient）\n",
    "\n",
    "$\\beta_0$ 和 $\\beta_1$ 统称为模型系数（model coefficients）。 我们用Simple Linear Regression找到最优直线的过程, 本质上就是找到最好模型系数的过程。\n",
    "\n",
    "接下来，我们用一个python的库：Statsmodels来建立模型。"
   ]
  },
  {
   "cell_type": "code",
   "execution_count": 5,
   "metadata": {},
   "outputs": [
    {
     "name": "stderr",
     "output_type": "stream",
     "text": [
      "/usr/local/Cellar/python3/3.6.0/Frameworks/Python.framework/Versions/3.6/lib/python3.6/site-packages/numpy/core/fromnumeric.py:2389: FutureWarning: Method .ptp is deprecated and will be removed in a future version. Use numpy.ptp instead.\n",
      "  return ptp(axis=axis, out=out, **kwargs)\n"
     ]
    }
   ],
   "source": [
    "import statsmodels.api as sm\n",
    "X = auto_df['ageOfCar']\n",
    "Y = auto_df['price']\n",
    "X = sm.add_constant(X)"
   ]
  },
  {
   "cell_type": "markdown",
   "metadata": {},
   "source": [
    "以上这一步，X是predictor，Y是outcome。\n",
    "\n",
    "我们对X和Y进行了赋值，并且在X中加入常数1。加入常数1的目的是让我们的linear model可以写成这个形式$y = \\beta_0x_0 + \\beta_1x_1$，其中$x_0 = 1$，这样做只是为了方便计算。\n",
    "\n",
    "我们把X和Y用`head()`函数打印出前5行，验证一下是我们希望的格式。"
   ]
  },
  {
   "cell_type": "code",
   "execution_count": 16,
   "metadata": {},
   "outputs": [
    {
     "data": {
      "text/html": [
       "<div>\n",
       "<style scoped>\n",
       "    .dataframe tbody tr th:only-of-type {\n",
       "        vertical-align: middle;\n",
       "    }\n",
       "\n",
       "    .dataframe tbody tr th {\n",
       "        vertical-align: top;\n",
       "    }\n",
       "\n",
       "    .dataframe thead th {\n",
       "        text-align: right;\n",
       "    }\n",
       "</style>\n",
       "<table border=\"1\" class=\"dataframe\">\n",
       "  <thead>\n",
       "    <tr style=\"text-align: right;\">\n",
       "      <th></th>\n",
       "      <th>const</th>\n",
       "      <th>ageOfCar</th>\n",
       "    </tr>\n",
       "  </thead>\n",
       "  <tbody>\n",
       "    <tr>\n",
       "      <th>0</th>\n",
       "      <td>1.0</td>\n",
       "      <td>4.123106</td>\n",
       "    </tr>\n",
       "    <tr>\n",
       "      <th>1</th>\n",
       "      <td>1.0</td>\n",
       "      <td>4.123106</td>\n",
       "    </tr>\n",
       "    <tr>\n",
       "      <th>2</th>\n",
       "      <td>1.0</td>\n",
       "      <td>3.741657</td>\n",
       "    </tr>\n",
       "    <tr>\n",
       "      <th>3</th>\n",
       "      <td>1.0</td>\n",
       "      <td>3.872983</td>\n",
       "    </tr>\n",
       "    <tr>\n",
       "      <th>4</th>\n",
       "      <td>1.0</td>\n",
       "      <td>4.242641</td>\n",
       "    </tr>\n",
       "  </tbody>\n",
       "</table>\n",
       "</div>"
      ],
      "text/plain": [
       "   const  ageOfCar\n",
       "0    1.0  4.123106\n",
       "1    1.0  4.123106\n",
       "2    1.0  3.741657\n",
       "3    1.0  3.872983\n",
       "4    1.0  4.242641"
      ]
     },
     "execution_count": 16,
     "metadata": {},
     "output_type": "execute_result"
    }
   ],
   "source": [
    "X.head()"
   ]
  },
  {
   "cell_type": "code",
   "execution_count": 17,
   "metadata": {},
   "outputs": [
    {
     "data": {
      "text/plain": [
       "0    1799\n",
       "1    2249\n",
       "2    1950\n",
       "3    2950\n",
       "4    1999\n",
       "Name: price, dtype: int64"
      ]
     },
     "execution_count": 17,
     "metadata": {},
     "output_type": "execute_result"
    }
   ],
   "source": [
    "Y.head()"
   ]
  },
  {
   "cell_type": "markdown",
   "metadata": {},
   "source": [
    "你也许会看到，X和Y的格式不一样。这是因为，由于Y只有1列，所以Y变成了一个叫做Series的数据格式，不再是数据表格(dataframe)。但这对我们的分析没有影响。"
   ]
  },
  {
   "cell_type": "markdown",
   "metadata": {},
   "source": [
    "**(2) 训练模型**\n",
    "\n",
    "接下来我们来找最优的模型系数。\n",
    "\n",
    "这个过程代码上非常简单，我们只需要下面这一行，程序就会自动帮我们找到最佳系数$\\beta_0, \\beta_1$。\n",
    "\n",
    "这里的中间过程我们在上一章有介绍，就是找到最小的误差平方和的过程。"
   ]
  },
  {
   "cell_type": "code",
   "execution_count": 19,
   "metadata": {},
   "outputs": [],
   "source": [
    "model = sm.OLS(Y, X).fit()"
   ]
  },
  {
   "cell_type": "markdown",
   "metadata": {},
   "source": [
    "以上代码中，sm是statsmodels.api的简称，因为我们在引入statsmodels的时候告诉python：`import statsmodels.api as sm`。\n",
    "\n",
    "`OLS`是指的我们的线性模型，传入我的的数据X，Y，然后调用`fit()`方法就开始训练了。如果你对这个代码不是非常理解，没有关系，现在只需要记住传入X和Y就可以训练出线性模型。\n",
    "\n",
    "我们将线性模型存储在变量`model`中。"
   ]
  },
  {
   "cell_type": "markdown",
   "metadata": {},
   "source": [
    "## 4. 模型参数总结\n",
    "\n",
    "接下来我们看看模型的效果如何。\n",
    "\n",
    "Statsmodel提供了一个非常方便的summary方法，这里有完整的评估模型质量的参数指标。"
   ]
  },
  {
   "cell_type": "code",
   "execution_count": 54,
   "metadata": {},
   "outputs": [
    {
     "data": {
      "text/html": [
       "<table class=\"simpletable\">\n",
       "<caption>OLS Regression Results</caption>\n",
       "<tr>\n",
       "  <th>Dep. Variable:</th>          <td>price</td>      <th>  R-squared:         </th> <td>   0.692</td>\n",
       "</tr>\n",
       "<tr>\n",
       "  <th>Model:</th>                   <td>OLS</td>       <th>  Adj. R-squared:    </th> <td>   0.690</td>\n",
       "</tr>\n",
       "<tr>\n",
       "  <th>Method:</th>             <td>Least Squares</td>  <th>  F-statistic:       </th> <td>   265.7</td>\n",
       "</tr>\n",
       "<tr>\n",
       "  <th>Date:</th>             <td>Sun, 14 Jul 2019</td> <th>  Prob (F-statistic):</th> <td>5.39e-32</td>\n",
       "</tr>\n",
       "<tr>\n",
       "  <th>Time:</th>                 <td>16:00:43</td>     <th>  Log-Likelihood:    </th> <td> -975.01</td>\n",
       "</tr>\n",
       "<tr>\n",
       "  <th>No. Observations:</th>      <td>   120</td>      <th>  AIC:               </th> <td>   1954.</td>\n",
       "</tr>\n",
       "<tr>\n",
       "  <th>Df Residuals:</th>          <td>   118</td>      <th>  BIC:               </th> <td>   1960.</td>\n",
       "</tr>\n",
       "<tr>\n",
       "  <th>Df Model:</th>              <td>     1</td>      <th>                     </th>     <td> </td>   \n",
       "</tr>\n",
       "<tr>\n",
       "  <th>Covariance Type:</th>      <td>nonrobust</td>    <th>                     </th>     <td> </td>   \n",
       "</tr>\n",
       "</table>\n",
       "<table class=\"simpletable\">\n",
       "<tr>\n",
       "      <td></td>        <th>coef</th>     <th>std err</th>      <th>t</th>      <th>P>|t|</th>  <th>[0.025</th>    <th>0.975]</th>  \n",
       "</tr>\n",
       "<tr>\n",
       "  <th>const</th>    <td> 8493.2537</td> <td>  416.985</td> <td>   20.368</td> <td> 0.000</td> <td> 7667.510</td> <td> 9318.997</td>\n",
       "</tr>\n",
       "<tr>\n",
       "  <th>ageOfCar</th> <td> -422.2039</td> <td>   25.904</td> <td>  -16.299</td> <td> 0.000</td> <td> -473.500</td> <td> -370.908</td>\n",
       "</tr>\n",
       "</table>\n",
       "<table class=\"simpletable\">\n",
       "<tr>\n",
       "  <th>Omnibus:</th>       <td> 0.416</td> <th>  Durbin-Watson:     </th> <td>   1.493</td>\n",
       "</tr>\n",
       "<tr>\n",
       "  <th>Prob(Omnibus):</th> <td> 0.812</td> <th>  Jarque-Bera (JB):  </th> <td>   0.123</td>\n",
       "</tr>\n",
       "<tr>\n",
       "  <th>Skew:</th>          <td>-0.022</td> <th>  Prob(JB):          </th> <td>   0.940</td>\n",
       "</tr>\n",
       "<tr>\n",
       "  <th>Kurtosis:</th>      <td> 3.151</td> <th>  Cond. No.          </th> <td>    89.5</td>\n",
       "</tr>\n",
       "</table><br/><br/>Warnings:<br/>[1] Standard Errors assume that the covariance matrix of the errors is correctly specified."
      ],
      "text/plain": [
       "<class 'statsmodels.iolib.summary.Summary'>\n",
       "\"\"\"\n",
       "                            OLS Regression Results                            \n",
       "==============================================================================\n",
       "Dep. Variable:                  price   R-squared:                       0.692\n",
       "Model:                            OLS   Adj. R-squared:                  0.690\n",
       "Method:                 Least Squares   F-statistic:                     265.7\n",
       "Date:                Sun, 14 Jul 2019   Prob (F-statistic):           5.39e-32\n",
       "Time:                        16:00:43   Log-Likelihood:                -975.01\n",
       "No. Observations:                 120   AIC:                             1954.\n",
       "Df Residuals:                     118   BIC:                             1960.\n",
       "Df Model:                           1                                         \n",
       "Covariance Type:            nonrobust                                         \n",
       "==============================================================================\n",
       "                 coef    std err          t      P>|t|      [0.025      0.975]\n",
       "------------------------------------------------------------------------------\n",
       "const       8493.2537    416.985     20.368      0.000    7667.510    9318.997\n",
       "ageOfCar    -422.2039     25.904    -16.299      0.000    -473.500    -370.908\n",
       "==============================================================================\n",
       "Omnibus:                        0.416   Durbin-Watson:                   1.493\n",
       "Prob(Omnibus):                  0.812   Jarque-Bera (JB):                0.123\n",
       "Skew:                          -0.022   Prob(JB):                        0.940\n",
       "Kurtosis:                       3.151   Cond. No.                         89.5\n",
       "==============================================================================\n",
       "\n",
       "Warnings:\n",
       "[1] Standard Errors assume that the covariance matrix of the errors is correctly specified.\n",
       "\"\"\""
      ]
     },
     "execution_count": 54,
     "metadata": {},
     "output_type": "execute_result"
    }
   ],
   "source": [
    "model.summary()"
   ]
  },
  {
   "cell_type": "markdown",
   "metadata": {},
   "source": [
    "这是一个非常完整的表格，里面包含了完整的模型参数。但此刻最重要的是下面2项：\n",
    "\n",
    "**模型系数 $\\beta_0, \\beta_1$**\n",
    "\n",
    "找到好的系数是我们建模和主要目的，模型系数在上表中名为`coef`。我们可以看到两个predictor对应的系数分别为：$\\beta_0 = 8493.2537,  \\beta_1 = -422.2039$。\n",
    "\n",
    "所以我们得到的模型就是：$y = -422.2039x + 8493.2537$\n",
    "\n",
    "\n",
    "**R-squared**\n",
    "\n",
    "R-squared是一个0-1之间的值，表示的是我们的模型对数据的解释能力。\n",
    "\n",
    "* 当R-squared为1的时候，代表我们的模型完美的“吸取”了所有数据的信息。\n",
    "\n",
    "* 当R-squared为0的时候，代表我们的模型没有办法帮助我们用X来预测Y，等同于瞎猜。\n",
    "\n",
    "所以，越接近1说明模型对于数据的解释能力越强，越接近0说明模型对数据的解释能力越弱。\n",
    "\n",
    "我们的R-squared值是0.692，你可以简单理解为我们的模型可以解释69.2%的数据中的信息。通常大于0.6就是一个不错的数值。\n",
    "\n",
    "我们在这里没有深入到R-squared复杂的数学原理，感兴趣的同学可以参考这个非常清晰的教程：[How To Interpret R-squared in Regression Analysis](https://statisticsbyjim.com/regression/interpret-r-squared-regression/)"
   ]
  },
  {
   "cell_type": "markdown",
   "metadata": {},
   "source": [
    "## 5. 模型的应用"
   ]
  },
  {
   "cell_type": "markdown",
   "metadata": {},
   "source": [
    "**(1) 预测**\n",
    "\n",
    "我们的模型存储在变量model中，model有一个`predict()`函数可以用来做预测。\n",
    "\n",
    "我们只需要建立一个与训练数据X相同格式的数据，放到model的`predict()`函数中就可以。譬如说我们有一个车龄10年的车，需要预测价格，那么做法如下："
   ]
  },
  {
   "cell_type": "code",
   "execution_count": 75,
   "metadata": {},
   "outputs": [
    {
     "data": {
      "text/plain": [
       "4271.214516129038"
      ]
     },
     "execution_count": 75,
     "metadata": {},
     "output_type": "execute_result"
    }
   ],
   "source": [
    "new_X = [1, 10]\n",
    "new_predictions = model.predict(new_X)\n",
    "new_predictions[0] #结果以数组形式输出，此处的[0]是将数组中的数字取出。"
   ]
  },
  {
   "cell_type": "markdown",
   "metadata": {},
   "source": [
    "所以说，对于一辆车龄为10年的车，我们可以预期它的售价约为4271美金。"
   ]
  },
  {
   "cell_type": "markdown",
   "metadata": {},
   "source": [
    "**(2) 模型的应用范围**\n",
    "\n",
    "如果我们有一辆30年车龄的车，那么价格会是多少呢？我们来看一看。"
   ]
  },
  {
   "cell_type": "code",
   "execution_count": 74,
   "metadata": {},
   "outputs": [
    {
     "data": {
      "text/plain": [
       "-4172.863824884782"
      ]
     },
     "execution_count": 74,
     "metadata": {},
     "output_type": "execute_result"
    }
   ],
   "source": [
    "new_X = [1, 30]\n",
    "new_predictions = model.predict(new_X)\n",
    "new_predictions[0]"
   ]
  },
  {
   "cell_type": "markdown",
   "metadata": {},
   "source": [
    "我们会发现，结果出现了不可能的数值。这是因为，在我们建立模型的过程中，使用的模型数据的车辆年限在6-20之间。所以模型的有效应用范围也在这个区间之间。\n",
    "我们的模型在训练的过程中，并没有见过30年的车辆，所以预测这样的数据也不在模型能力范围内，于是会出现这样离谱的预测结果。\n",
    "\n",
    "由于在\"数据可视化\"的部分，**我们看到训练数据中，车龄的分布是在6-20年之间，所以我们的模型的适用范围也是针对6-20年之间的车辆。**"
   ]
  },
  {
   "cell_type": "markdown",
   "metadata": {},
   "source": [
    "## 6. 模型评估"
   ]
  },
  {
   "cell_type": "markdown",
   "metadata": {},
   "source": [
    "**(1) 预测的随机性**"
   ]
  },
  {
   "cell_type": "markdown",
   "metadata": {},
   "source": [
    "理想的情况下，基于每一个不同的车龄，我们的预测结果的误差应该是随机的。\n",
    "\n",
    "如果不同车龄的预测误差不是随机的，那么说明我们还有其他的信息可以从数据中“榨取”出来。\n",
    "\n",
    "所以我们用散点图来可视化预测误差和车龄，看看与上面的假设是否一致。\n",
    "\n",
    "我们定义X轴为predictor（ageOfCar），Y轴为预测的误差（Y_pred - Y)。首先得到预测值："
   ]
  },
  {
   "cell_type": "code",
   "execution_count": 22,
   "metadata": {},
   "outputs": [],
   "source": [
    "Y_pred = model.predict(X)"
   ]
  },
  {
   "cell_type": "markdown",
   "metadata": {},
   "source": [
    "然后用预测价格Y_pred减去真实价格Y，得到误差（residual）："
   ]
  },
  {
   "cell_type": "code",
   "execution_count": 24,
   "metadata": {},
   "outputs": [],
   "source": [
    "residual = Y_pred - Y"
   ]
  },
  {
   "cell_type": "markdown",
   "metadata": {},
   "source": [
    "然后用matplotlib的`plt()`函数画出散点图，将X坐标作为第一个参数传入，Y坐标作为第二个参数传入即可："
   ]
  },
  {
   "cell_type": "code",
   "execution_count": 26,
   "metadata": {},
   "outputs": [
    {
     "data": {
      "text/plain": [
       "<matplotlib.collections.PathCollection at 0x11d3739b0>"
      ]
     },
     "execution_count": 26,
     "metadata": {},
     "output_type": "execute_result"
    },
    {
     "data": {
      "image/png": "[encoded data removed]",
      "text/plain": [
       "<Figure size 432x288 with 1 Axes>"
      ]
     },
     "metadata": {
      "needs_background": "light"
     },
     "output_type": "display_data"
    }
   ],
   "source": [
    "plt.scatter(X.ageOfCar, residual)"
   ]
  },
  {
   "cell_type": "markdown",
   "metadata": {},
   "source": [
    "我们能看到，大体上，数据比较均匀的分布在Y=0这条直线的两侧。所以整体来看，这个模型的预测结果具备一定的随机性。\n",
    "\n",
    "但是如果我们仔细观察，会发现右侧的数据，当ageOfCar大于14的时候，图像顶部有一个向下的滑坡，我对这个pattern有一些疑虑。\n",
    "\n",
    "一个可能的解释是：车辆的贬值速度是越来越慢的。新车的贬值速度比较快，但是如果一辆车已经开了15年，那么再开一年对它的影响/损坏很可能比前几年要小。而我们的模型$y = -422.2039x + 8493.2537$表达的是车辆每年以匀速的价格贬值，所以这是为什么ageOfCar大于14的时候，我们的模型会给出整体偏低的价格预测。\n",
    "\n",
    "要解决这个问题，有两个思路：\n",
    "> 1.对ageOfCar进行一定的运算转换成新的predictor，比如开根号，这样车龄的“增长”速度也会逐渐减慢，更符合现实中车辆贬值的情况。\n",
    ">\n",
    "> 2.增加predictor的种类，将更多的信息纳入进来，减弱车龄（ageOfCar）对结果的影响。\n",
    "\n",
    "同学们可以自己动手尝试一下思路1，同时我们在下一章Multiple Linear Regression中尝试思路2。"
   ]
  },
  {
   "cell_type": "markdown",
   "metadata": {},
   "source": [
    "**(2) 均方根误差 Root Mean Squared Error**\n",
    "\n",
    "均方根误差简称RMSE，是一种广泛使用的衡量模型的指标。\n",
    "\n",
    "RMSE的计算方法简单， $RMSE = \\sqrt{\\frac{1}{n}\\Sigma_{i=1}^{n}{({ypred}_i -y_i)^2}}$。它的计算方法是：\n",
    "* 1. 计算预测值\n",
    "* 2. 计算每一个预测值与对应真实值的差\n",
    "* 3. 将2的结果中的每一项平方，算平均值\n",
    "* 4. 将3的结果开根号\n",
    "\n",
    "反应的是我们的预测值与实际值的偏差的概况，越小越好。"
   ]
  },
  {
   "cell_type": "code",
   "execution_count": 80,
   "metadata": {},
   "outputs": [
    {
     "name": "stdout",
     "output_type": "stream",
     "text": [
      "1634.8290513702962\n"
     ]
    }
   ],
   "source": [
    "rmse = np.sqrt(sum(residual**2) / 30)\n",
    "print(rmse)"
   ]
  },
  {
   "cell_type": "markdown",
   "metadata": {},
   "source": [
    "**(3) 备注**\n",
    "\n",
    "需要注明的是，此处我们使用了用于训练模型的数据做验证。\n",
    "\n",
    "正确的做法是将数据集拆分，一部分数据做训练、另一部分数据做测试。\n",
    "\n",
    "此处我们先介绍模型验证的思想，在后续章节我们会介绍数据的拆分，使用更正确的方式来验证模型的表现。"
   ]
  },
  {
   "cell_type": "markdown",
   "metadata": {},
   "source": [
    "## 7. 模型的解释"
   ]
  },
  {
   "cell_type": "markdown",
   "metadata": {},
   "source": [
    "如何解释最终的结果，决定了Data Science项目的成败。如果我们可以理解模型的含义，并且符合我们对实际问题的认知，那么我们会增强对于模型的信心，客户也更容易接受我们提供的结果。\n",
    "\n",
    "对于这一章我们建立的模型，我们的解释是：\n",
    "\n",
    "由于我们的模型是：$y = -422.2039x + 8493.2537$\n",
    "\n",
    "结合模型的应用范围，对于使用6-20年的二手车，每多开一年，其售价的期望会下降422.2039美元。"
   ]
  },
  {
   "cell_type": "markdown",
   "metadata": {},
   "source": [
    "## Summary & Next\n",
    "\n",
    "通过本章的学习，你也许第一次接触到了Simple Linear Regression的代码实现，并且得出了有意义的二手车市场结论。\n",
    "\n",
    "在Simple Linear Regression的过程中，我们首先对数据进行绘图来观察其规律，然后对数据做了预处理（增加const），然后进行建模。\n",
    "\n",
    "这三步是解决Data Science问题的基本步骤，在之后的学习中会不断的出现。\n",
    "\n",
    "同时我们还会逐渐的加入新的步骤，来提升分析的效果。\n",
    "\n",
    "\n",
    "下一章中，我们会给大家介绍一些关键的统计概念，然后继续分析这一章中模型的结果。"
   ]
  }
 ],
 "metadata": {
  "kernelspec": {
   "display_name": "Python 3",
   "language": "python",
   "name": "python3"
  },
  "language_info": {
   "codemirror_mode": {
    "name": "ipython",
    "version": 3
   },
   "file_extension": ".py",
   "mimetype": "text/x-python",
   "name": "python",
   "nbconvert_exporter": "python",
   "pygments_lexer": "ipython3",
   "version": "3.6.0"
  }
 },
 "nbformat": 4,
 "nbformat_minor": 2
}
