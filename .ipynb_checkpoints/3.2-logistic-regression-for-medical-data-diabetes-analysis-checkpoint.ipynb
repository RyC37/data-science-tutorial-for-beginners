{
 "cells": [
  {
   "cell_type": "markdown",
   "metadata": {},
   "source": [
    "# Logistic Regression for Medical Data\n",
    "\n",
    "在上一章中，我们引入了分类（Classification）的概念，同时介绍了逻辑回归（Logistic Regression）的基本知识。希望你对这些内容已经有了大概的了解，如果有疑问，请回顾上一章的教程或者在GitHub中进行讨论。\n",
    "\n",
    "现在，我们利用新学到的技能来解决一个医疗领域中的实际问题。在这一章中，我们会分析一个糖尿病患者的数据库，根据血糖含量，身体质量指数等生理指标建立糖尿病的分类模型。这个模型将可以辅助医生做出糖尿病的诊断。\n",
    "\n",
    "在本章的教程中，你会学到：\n",
    "* 如何将数据可视化，观察数据分布\n",
    "* 2种处理异常数据的方式\n",
    "* 如何建立逻辑回归模型(Logistic Regression Model)\n",
    "* 如何评估逻辑回归模型的结果\n",
    "\n",
    "数据源：本章教程使用的数据来源于[加州大学欧文分校（UC Irvine）的机器学习组](https://archive.ics.uci.edu/ml/index.php)\n",
    "\n",
    "\n",
    "## 准备工作"
   ]
  },
  {
   "cell_type": "markdown",
   "metadata": {},
   "source": [
    "首先，我们来引入常用的外部库，读取数据。"
   ]
  },
  {
   "cell_type": "code",
   "execution_count": 19,
   "metadata": {},
   "outputs": [],
   "source": [
    "import pandas as pd\n",
    "import numpy as np\n",
    "from matplotlib import pyplot as plt\n",
    "%matplotlib inline\n",
    "\n",
    "import warnings\n",
    "warnings.filterwarnings('ignore')"
   ]
  },
  {
   "cell_type": "code",
   "execution_count": 11,
   "metadata": {},
   "outputs": [
    {
     "data": {
      "text/plain": [
       "(768, 9)"
      ]
     },
     "execution_count": 11,
     "metadata": {},
     "output_type": "execute_result"
    }
   ],
   "source": [
    "diabetes = pd.read_csv('./data/diabetes.csv')\n",
    "diabetes.shape"
   ]
  },
  {
   "cell_type": "markdown",
   "metadata": {},
   "source": [
    "可以看到，这并不是一个很大的数据集，只有768个observation，这意味着我们会需要努力利用尽可能多的数据进行分析，减少在数据预处理（Data Preprocessing）过程中的损耗。"
   ]
  },
  {
   "cell_type": "markdown",
   "metadata": {},
   "source": [
    "## 数据字典\n",
    "以下是对数据中每一个feature的解释。（对于Glucose, Insulin, DiabetesPedigreeFunction三个feature的解释我不是很确定，所以保留了英文原文供参考）\n",
    "* Pregnancies: 怀孕次数\n",
    "* Glucose: 血糖浓度（Plasma glucose concentration a 2 hours in an oral glucose tolerance test）\n",
    "* BloodPressure: 血压\n",
    "* SkinThickness: 三头肌处的皮肤厚度\n",
    "* Insulin: 胰岛素含量（2-Hour serum insulin (mu U/ml)）\n",
    "* BMI: 身体质量指数 (体重(kg)/身高(m)^2)\n",
    "* DiabetesPedigreeFunction: 一个反应患糖尿病的概率高低的值 (a function that represents how likely they are to get the disease by extrapolating from their ancestor’s history)\n",
    "* Age: 年龄\n",
    "* Outcome: 1代表患有糖尿病，0代表没有糖尿病\n",
    "\n",
    "我们用`head()`方法打印出数据表的表头，来进一步观察数据："
   ]
  },
  {
   "cell_type": "code",
   "execution_count": 6,
   "metadata": {},
   "outputs": [
    {
     "data": {
      "text/html": [
       "<div>\n",
       "<style scoped>\n",
       "    .dataframe tbody tr th:only-of-type {\n",
       "        vertical-align: middle;\n",
       "    }\n",
       "\n",
       "    .dataframe tbody tr th {\n",
       "        vertical-align: top;\n",
       "    }\n",
       "\n",
       "    .dataframe thead th {\n",
       "        text-align: right;\n",
       "    }\n",
       "</style>\n",
       "<table border=\"1\" class=\"dataframe\">\n",
       "  <thead>\n",
       "    <tr style=\"text-align: right;\">\n",
       "      <th></th>\n",
       "      <th>Pregnancies</th>\n",
       "      <th>Glucose</th>\n",
       "      <th>BloodPressure</th>\n",
       "      <th>SkinThickness</th>\n",
       "      <th>Insulin</th>\n",
       "      <th>BMI</th>\n",
       "      <th>DiabetesPedigreeFunction</th>\n",
       "      <th>Age</th>\n",
       "      <th>Outcome</th>\n",
       "    </tr>\n",
       "  </thead>\n",
       "  <tbody>\n",
       "    <tr>\n",
       "      <th>0</th>\n",
       "      <td>6</td>\n",
       "      <td>148</td>\n",
       "      <td>72</td>\n",
       "      <td>35</td>\n",
       "      <td>0</td>\n",
       "      <td>33.6</td>\n",
       "      <td>0.627</td>\n",
       "      <td>50</td>\n",
       "      <td>1</td>\n",
       "    </tr>\n",
       "    <tr>\n",
       "      <th>1</th>\n",
       "      <td>1</td>\n",
       "      <td>85</td>\n",
       "      <td>66</td>\n",
       "      <td>29</td>\n",
       "      <td>0</td>\n",
       "      <td>26.6</td>\n",
       "      <td>0.351</td>\n",
       "      <td>31</td>\n",
       "      <td>0</td>\n",
       "    </tr>\n",
       "    <tr>\n",
       "      <th>2</th>\n",
       "      <td>8</td>\n",
       "      <td>183</td>\n",
       "      <td>64</td>\n",
       "      <td>0</td>\n",
       "      <td>0</td>\n",
       "      <td>23.3</td>\n",
       "      <td>0.672</td>\n",
       "      <td>32</td>\n",
       "      <td>1</td>\n",
       "    </tr>\n",
       "    <tr>\n",
       "      <th>3</th>\n",
       "      <td>1</td>\n",
       "      <td>89</td>\n",
       "      <td>66</td>\n",
       "      <td>23</td>\n",
       "      <td>94</td>\n",
       "      <td>28.1</td>\n",
       "      <td>0.167</td>\n",
       "      <td>21</td>\n",
       "      <td>0</td>\n",
       "    </tr>\n",
       "    <tr>\n",
       "      <th>4</th>\n",
       "      <td>0</td>\n",
       "      <td>137</td>\n",
       "      <td>40</td>\n",
       "      <td>35</td>\n",
       "      <td>168</td>\n",
       "      <td>43.1</td>\n",
       "      <td>2.288</td>\n",
       "      <td>33</td>\n",
       "      <td>1</td>\n",
       "    </tr>\n",
       "  </tbody>\n",
       "</table>\n",
       "</div>"
      ],
      "text/plain": [
       "   Pregnancies  Glucose  BloodPressure  SkinThickness  Insulin   BMI  \\\n",
       "0            6      148             72             35        0  33.6   \n",
       "1            1       85             66             29        0  26.6   \n",
       "2            8      183             64              0        0  23.3   \n",
       "3            1       89             66             23       94  28.1   \n",
       "4            0      137             40             35      168  43.1   \n",
       "\n",
       "   DiabetesPedigreeFunction  Age  Outcome  \n",
       "0                     0.627   50        1  \n",
       "1                     0.351   31        0  \n",
       "2                     0.672   32        1  \n",
       "3                     0.167   21        0  \n",
       "4                     2.288   33        1  "
      ]
     },
     "execution_count": 6,
     "metadata": {},
     "output_type": "execute_result"
    }
   ],
   "source": [
    "diabetes.head()"
   ]
  },
  {
   "cell_type": "markdown",
   "metadata": {},
   "source": [
    "## 数据探索"
   ]
  },
  {
   "cell_type": "markdown",
   "metadata": {},
   "source": [
    "首先，让我们来探索数据，来检查数据质量。\n",
    "\n",
    "**(1) 空值检测**\n",
    "\n",
    "首先，我们要检测数据表中的空值。使用pandas自带的`isnull()`方法可以判断每一个数据是否为空值（是空值则返回1，反之则为0），然后使用同样是pandas自带的`sum()`方法将`isnull()`的结果相加，得到每一列的空值数量。"
   ]
  },
  {
   "cell_type": "code",
   "execution_count": 7,
   "metadata": {},
   "outputs": [
    {
     "data": {
      "text/plain": [
       "Pregnancies                 0\n",
       "Glucose                     0\n",
       "BloodPressure               0\n",
       "SkinThickness               0\n",
       "Insulin                     0\n",
       "BMI                         0\n",
       "DiabetesPedigreeFunction    0\n",
       "Age                         0\n",
       "Outcome                     0\n",
       "dtype: int64"
      ]
     },
     "execution_count": 7,
     "metadata": {},
     "output_type": "execute_result"
    }
   ],
   "source": [
    "diabetes.isnull().sum()"
   ]
  },
  {
   "cell_type": "markdown",
   "metadata": {},
   "source": [
    "这是一个非常干净的数据库，没有空值。\n",
    "\n",
    "不过，空值是我们在实际数据中经常会遇到的情况，对空值处理感兴趣的同学可以参考这篇文章：[How to Handle Missing Data](https://towardsdatascience.com/how-to-handle-missing-data-8646b18db0d4)\n",
    "\n",
    "接下来我们来观察数据分布情况。\n",
    "\n",
    "**(2) 数据分布图**\n",
    "\n",
    "数据分布图（Histogram）可以帮助我们观察数据的整体情况，借此我们可以看到是否存在异常值，数据范围是否合理，数据分布是否符合某些规律。\n",
    "\n",
    "此外，由于我们要做的是一个分类问题，所以我们在这里将数据根据outcome拆分成两份，来观察糖尿病患者(Outcome = 1)和非糖尿病患者(Outcome = 0)的血糖(Gluecose)，胰岛素(Insulin)，身体质量指数(BMI)等predictor的数值分布差异情况。"
   ]
  },
  {
   "cell_type": "markdown",
   "metadata": {},
   "source": [
    "下面，我们将每一个predictor的名字放入一个数组，然后遍历数组进行绘图。这里的绘图方法不在本教程的范畴内。用这个复杂的方法是为了视觉效果。如果希望使用可以理解的方法来绘图，可以使用pandas自带的`hist()`方法，效果是一样的，代码如下：\n",
    "```\n",
    "diabetes_col = ['Pregnancies', 'Glucose', 'BloodPressure', 'SkinThickness', 'Insulin', 'BMI', 'DiabetesPedigreeFunction', 'Age']\n",
    "for ele in diabetes_col:\n",
    "    print(ele)\n",
    "    diabetes[ele].hist(figsize=(16,4), by=diabetes['Outcome'], bins=60)\n",
    "```\n",
    "不过，我们在教程中还是使用下面的方法来帮助我们更好的观察数据："
   ]
  },
  {
   "cell_type": "code",
   "execution_count": 12,
   "metadata": {},
   "outputs": [
    {
     "name": "stderr",
     "output_type": "stream",
     "text": [
      "/Users/sicongzhao/Library/Python/3.6/lib/python/site-packages/ipykernel_launcher.py:20: DeprecationWarning: object of type <class 'numpy.float64'> cannot be safely interpreted as an integer.\n"
     ]
    },
    {
     "data": {
      "image/png": "[encoded data removed]",
      "text/plain": [
       "<Figure size 2000x2000 with 8 Axes>"
      ]
     },
     "metadata": {
      "needs_background": "light"
     },
     "output_type": "display_data"
    }
   ],
   "source": [
    "# Separate Dataset by Outcome\n",
    "diabetes_pos = diabetes[diabetes['Outcome'] == 1]\n",
    "diabetes_neg = diabetes[diabetes['Outcome'] == 0]\n",
    "\n",
    "diabetes_col = ['Pregnancies', 'Glucose', 'BloodPressure', 'SkinThickness', 'Insulin', 'BMI', 'DiabetesPedigreeFunction', 'Age']\n",
    "i = 0\n",
    "fig, axs = plt.subplots(4, 2)\n",
    "for ele in diabetes_col:\n",
    "    # 从患病/没患病的数据库中取出同样的数据\n",
    "    x = diabetes_pos[ele].values\n",
    "    y = diabetes_neg[ele].values\n",
    "    # 计算当前数据的最小值和最大值，确定画图的边界\n",
    "    min_val = np.floor(diabetes[ele].min())\n",
    "    max_val = np.ceil(diabetes[ele].max())\n",
    "    bins_val = max_val - min_val\n",
    "    if bins_val > 100:\n",
    "        bins_val = 100\n",
    "    elif bins_val < 15:\n",
    "        bins_val = 15\n",
    "    bins = np.linspace(min_val, max_val, bins_val)\n",
    "    # 画图\n",
    "    fig.set_figheight(25)\n",
    "    fig.set_figwidth(25)\n",
    "    fig.set_dpi(80)\n",
    "    axs[i//2, i%2].hist(x, bins, alpha=0.5, label='positive', color='red')\n",
    "    axs[i//2, i%2].hist(y, bins, alpha=0.5, label='negative', color='blue')\n",
    "    axs[i//2, i%2].set_title(ele + ' Comparison by Outcome', fontsize=20)\n",
    "    axs[i//2, i%2].legend(loc='upper right')\n",
    "    i += 1"
   ]
  },
  {
   "cell_type": "markdown",
   "metadata": {},
   "source": [
    "以上，我们用颜色区分患者（红色）和非患者（蓝色）的predictor的分布图（Histogram）。对于每一个predictor，我们都可以看到一些明确的区别，这是一个很好的现象，分类算法本质上就是通过学习各类predictor的区别，来进行分类预测。\n",
    "\n",
    "但同时，我们也观察到了一些异常值：\n",
    "* Glucose, BloodPressure, SkinThickness, Insulin, BMI 都有值为0的observation，这是不可能的。\n",
    "* SkinThickness和Insulin有大量为0的值（>100）。\n",
    "\n",
    "**(3) 异常值处理**\n",
    "\n",
    "我们此处假设“数据为0”这种现象是随机的，我们采用下面两个处理方式：\n",
    "* 对于异常值较少的predictor，包括Glucose, BloodPressure, BMI，我们删除包含异常值的observation。\n",
    "* 对于异常值较多的predictor，SkinThickness和Insulin，我们建立两份数据，并且分别建模比较结果：\n",
    "\n",
    "    1) 数据集1: 删除这两个predictor，这样数据集中有比较多的observation\n",
    "    \n",
    "    2) 数据集2: 删除包含异常值的observation，这样数据集中的observation具备所有的predictor\n",
    "\n",
    "以下是生成数据集1的代码："
   ]
  },
  {
   "cell_type": "code",
   "execution_count": 13,
   "metadata": {},
   "outputs": [
    {
     "data": {
      "text/plain": [
       "(724, 7)"
      ]
     },
     "execution_count": 13,
     "metadata": {},
     "output_type": "execute_result"
    }
   ],
   "source": [
    "# 将BMI, Glucose, BloodPressure大于0的值筛选出来\n",
    "diabetes_clean = diabetes[(diabetes['BMI'] > 0) & (diabetes['Glucose'] > 0) & (diabetes['BloodPressure'] > 0)]\n",
    "# 删除SkinThickness和Insulin两个predictor\n",
    "diabetes_clean = diabetes_clean.drop(columns=['SkinThickness', 'Insulin'])\n",
    "# 重新建立索引\n",
    "diabetes_clean = diabetes_clean.reset_index(drop=True)\n",
    "# 查看生成的数据集的数据量\n",
    "diabetes_clean.shape"
   ]
  },
  {
   "cell_type": "markdown",
   "metadata": {},
   "source": [
    "经过以上处理，数据集1(diabetes_clean)中包含724个observation，6个predictor，1个outcome。\n",
    "\n",
    "以下是生产数据集2的代码："
   ]
  },
  {
   "cell_type": "code",
   "execution_count": 14,
   "metadata": {},
   "outputs": [
    {
     "data": {
      "text/plain": [
       "(392, 9)"
      ]
     },
     "execution_count": 14,
     "metadata": {},
     "output_type": "execute_result"
    }
   ],
   "source": [
    "# 将SkinThickness, BMI, Insulin, Glucose, BloodPressure大于0的值筛选出来\n",
    "diabetes_nonzero = diabetes[(diabetes['SkinThickness'] > 0) & (diabetes['BMI'] > 0) & (diabetes['Insulin'] > 0) & (diabetes['Glucose'] > 0) & (diabetes['BloodPressure'] > 0)]\n",
    "# 重新建立索引\n",
    "diabetes_nonzero = diabetes_nonzero.reset_index(drop=True)\n",
    "# 查看生成的数据集的数据量\n",
    "diabetes_nonzero.shape"
   ]
  },
  {
   "cell_type": "markdown",
   "metadata": {},
   "source": [
    "经过以上处理，数据集2(diabetes_nonzero)中包含392个observation，8个predictor，1个outcome。\n",
    "\n",
    "综上，由于数据的两个局限性：**1) 数据量较小 2) 包含异常值**，我们生成了两个数据集：\n",
    "\n",
    "* 数据集1的优点是保留了尽可能多的observation，缺点是舍弃了两个predictor。\n",
    "* 数据集2的优点是包含愿数据中所有的predictor，缺点是舍弃了约一半的observation。\n",
    "\n",
    "此刻，我们并不知道哪一个数据集对于建模的精度更有帮助，所以我们会分别对两个数据集建立逻辑回归模型，然后比较模型的结果，从而得出更好的模型。"
   ]
  },
  {
   "cell_type": "markdown",
   "metadata": {},
   "source": [
    "**(4) 数据关联性**\n",
    "\n",
    "当两个predictor具有高的相关性的时候，模型会产生动荡。当面对这样的情况时，我们可能会从中选取更有代表性predictor来进行回归分析（Regression Analysis）。我们可以通过pandas的`corr()`方法来计算任意两个feature之间的相关性（correlation）。我通常观察的是correlation大于0.85的情况，如果发生就有可能让模型不稳定。关于predictors高相关性对模型带来的影响，感兴趣的同学可以参考这个教程：[Highly Correlated Predictors](https://newonlinecourses.science.psu.edu/stat501/node/346/)"
   ]
  },
  {
   "cell_type": "code",
   "execution_count": 15,
   "metadata": {},
   "outputs": [
    {
     "data": {
      "text/html": [
       "<div>\n",
       "<style scoped>\n",
       "    .dataframe tbody tr th:only-of-type {\n",
       "        vertical-align: middle;\n",
       "    }\n",
       "\n",
       "    .dataframe tbody tr th {\n",
       "        vertical-align: top;\n",
       "    }\n",
       "\n",
       "    .dataframe thead th {\n",
       "        text-align: right;\n",
       "    }\n",
       "</style>\n",
       "<table border=\"1\" class=\"dataframe\">\n",
       "  <thead>\n",
       "    <tr style=\"text-align: right;\">\n",
       "      <th></th>\n",
       "      <th>Pregnancies</th>\n",
       "      <th>Glucose</th>\n",
       "      <th>BloodPressure</th>\n",
       "      <th>SkinThickness</th>\n",
       "      <th>Insulin</th>\n",
       "      <th>BMI</th>\n",
       "      <th>DiabetesPedigreeFunction</th>\n",
       "      <th>Age</th>\n",
       "      <th>Outcome</th>\n",
       "    </tr>\n",
       "  </thead>\n",
       "  <tbody>\n",
       "    <tr>\n",
       "      <th>Pregnancies</th>\n",
       "      <td>1.000000</td>\n",
       "      <td>0.129459</td>\n",
       "      <td>0.141282</td>\n",
       "      <td>-0.081672</td>\n",
       "      <td>-0.073535</td>\n",
       "      <td>0.017683</td>\n",
       "      <td>-0.033523</td>\n",
       "      <td>0.544341</td>\n",
       "      <td>0.221898</td>\n",
       "    </tr>\n",
       "    <tr>\n",
       "      <th>Glucose</th>\n",
       "      <td>0.129459</td>\n",
       "      <td>1.000000</td>\n",
       "      <td>0.152590</td>\n",
       "      <td>0.057328</td>\n",
       "      <td>0.331357</td>\n",
       "      <td>0.221071</td>\n",
       "      <td>0.137337</td>\n",
       "      <td>0.263514</td>\n",
       "      <td>0.466581</td>\n",
       "    </tr>\n",
       "    <tr>\n",
       "      <th>BloodPressure</th>\n",
       "      <td>0.141282</td>\n",
       "      <td>0.152590</td>\n",
       "      <td>1.000000</td>\n",
       "      <td>0.207371</td>\n",
       "      <td>0.088933</td>\n",
       "      <td>0.281805</td>\n",
       "      <td>0.041265</td>\n",
       "      <td>0.239528</td>\n",
       "      <td>0.065068</td>\n",
       "    </tr>\n",
       "    <tr>\n",
       "      <th>SkinThickness</th>\n",
       "      <td>-0.081672</td>\n",
       "      <td>0.057328</td>\n",
       "      <td>0.207371</td>\n",
       "      <td>1.000000</td>\n",
       "      <td>0.436783</td>\n",
       "      <td>0.392573</td>\n",
       "      <td>0.183928</td>\n",
       "      <td>-0.113970</td>\n",
       "      <td>0.074752</td>\n",
       "    </tr>\n",
       "    <tr>\n",
       "      <th>Insulin</th>\n",
       "      <td>-0.073535</td>\n",
       "      <td>0.331357</td>\n",
       "      <td>0.088933</td>\n",
       "      <td>0.436783</td>\n",
       "      <td>1.000000</td>\n",
       "      <td>0.197859</td>\n",
       "      <td>0.185071</td>\n",
       "      <td>-0.042163</td>\n",
       "      <td>0.130548</td>\n",
       "    </tr>\n",
       "    <tr>\n",
       "      <th>BMI</th>\n",
       "      <td>0.017683</td>\n",
       "      <td>0.221071</td>\n",
       "      <td>0.281805</td>\n",
       "      <td>0.392573</td>\n",
       "      <td>0.197859</td>\n",
       "      <td>1.000000</td>\n",
       "      <td>0.140647</td>\n",
       "      <td>0.036242</td>\n",
       "      <td>0.292695</td>\n",
       "    </tr>\n",
       "    <tr>\n",
       "      <th>DiabetesPedigreeFunction</th>\n",
       "      <td>-0.033523</td>\n",
       "      <td>0.137337</td>\n",
       "      <td>0.041265</td>\n",
       "      <td>0.183928</td>\n",
       "      <td>0.185071</td>\n",
       "      <td>0.140647</td>\n",
       "      <td>1.000000</td>\n",
       "      <td>0.033561</td>\n",
       "      <td>0.173844</td>\n",
       "    </tr>\n",
       "    <tr>\n",
       "      <th>Age</th>\n",
       "      <td>0.544341</td>\n",
       "      <td>0.263514</td>\n",
       "      <td>0.239528</td>\n",
       "      <td>-0.113970</td>\n",
       "      <td>-0.042163</td>\n",
       "      <td>0.036242</td>\n",
       "      <td>0.033561</td>\n",
       "      <td>1.000000</td>\n",
       "      <td>0.238356</td>\n",
       "    </tr>\n",
       "    <tr>\n",
       "      <th>Outcome</th>\n",
       "      <td>0.221898</td>\n",
       "      <td>0.466581</td>\n",
       "      <td>0.065068</td>\n",
       "      <td>0.074752</td>\n",
       "      <td>0.130548</td>\n",
       "      <td>0.292695</td>\n",
       "      <td>0.173844</td>\n",
       "      <td>0.238356</td>\n",
       "      <td>1.000000</td>\n",
       "    </tr>\n",
       "  </tbody>\n",
       "</table>\n",
       "</div>"
      ],
      "text/plain": [
       "                          Pregnancies   Glucose  BloodPressure  SkinThickness  \\\n",
       "Pregnancies                  1.000000  0.129459       0.141282      -0.081672   \n",
       "Glucose                      0.129459  1.000000       0.152590       0.057328   \n",
       "BloodPressure                0.141282  0.152590       1.000000       0.207371   \n",
       "SkinThickness               -0.081672  0.057328       0.207371       1.000000   \n",
       "Insulin                     -0.073535  0.331357       0.088933       0.436783   \n",
       "BMI                          0.017683  0.221071       0.281805       0.392573   \n",
       "DiabetesPedigreeFunction    -0.033523  0.137337       0.041265       0.183928   \n",
       "Age                          0.544341  0.263514       0.239528      -0.113970   \n",
       "Outcome                      0.221898  0.466581       0.065068       0.074752   \n",
       "\n",
       "                           Insulin       BMI  DiabetesPedigreeFunction  \\\n",
       "Pregnancies              -0.073535  0.017683                 -0.033523   \n",
       "Glucose                   0.331357  0.221071                  0.137337   \n",
       "BloodPressure             0.088933  0.281805                  0.041265   \n",
       "SkinThickness             0.436783  0.392573                  0.183928   \n",
       "Insulin                   1.000000  0.197859                  0.185071   \n",
       "BMI                       0.197859  1.000000                  0.140647   \n",
       "DiabetesPedigreeFunction  0.185071  0.140647                  1.000000   \n",
       "Age                      -0.042163  0.036242                  0.033561   \n",
       "Outcome                   0.130548  0.292695                  0.173844   \n",
       "\n",
       "                               Age   Outcome  \n",
       "Pregnancies               0.544341  0.221898  \n",
       "Glucose                   0.263514  0.466581  \n",
       "BloodPressure             0.239528  0.065068  \n",
       "SkinThickness            -0.113970  0.074752  \n",
       "Insulin                  -0.042163  0.130548  \n",
       "BMI                       0.036242  0.292695  \n",
       "DiabetesPedigreeFunction  0.033561  0.173844  \n",
       "Age                       1.000000  0.238356  \n",
       "Outcome                   0.238356  1.000000  "
      ]
     },
     "execution_count": 15,
     "metadata": {},
     "output_type": "execute_result"
    }
   ],
   "source": [
    "diabetes.corr()"
   ]
  },
  {
   "cell_type": "markdown",
   "metadata": {},
   "source": [
    "可以观察到，对角线的数值都是1，其他数值关于对角线对称。只观察两个不同predictor之间的correlation，所以我们可以看对角线以下的部分，并且忽略**outcome**那一行。\n",
    "\n",
    "由于没有值在0.85以上，所以我们的模型应该不会有predictor之间高相关性带来的问题。"
   ]
  },
  {
   "cell_type": "markdown",
   "metadata": {},
   "source": [
    "## 建立模型\n",
    "\n",
    "接下来，我们进入建模环节。首先我们对数据集1进行预处理，思路如下：\n",
    "* 抽取25%的数据用于测试，75%的数据用于训练模型\n",
    "* 将predictor和outcome分开，赋值变量X和Y\n",
    "\n",
    "**(1) 引入第三方库：**"
   ]
  },
  {
   "cell_type": "code",
   "execution_count": 16,
   "metadata": {},
   "outputs": [],
   "source": [
    "# 'train_test_split'用于抽取训练数据和测试数据\n",
    "from sklearn.model_selection import train_test_split\n",
    "# 'LogisticRegression'用于建立逻辑回归模型\n",
    "from sklearn.linear_model import LogisticRegression"
   ]
  },
  {
   "cell_type": "markdown",
   "metadata": {},
   "source": [
    "**(2) 分拆训练/测试数据**"
   ]
  },
  {
   "cell_type": "code",
   "execution_count": 17,
   "metadata": {},
   "outputs": [],
   "source": [
    "# train_test_split()函数用于抽取训练数据和测试数据。\n",
    "# 'test_size=0.25'意思是25%的数据作为训练数据。\n",
    "# 'stratify=diabetes_clean['Outcome']'是指的在两类人群中分别取25%作为测试数据。这样的目的是确保测试数据和训练数据中，患糖尿病人数/无患糖尿病人数比例相当。\n",
    "train,test=train_test_split(diabetes_clean,test_size=0.25,stratify=diabetes_clean['Outcome'])\n",
    "\n",
    "# 用于训练的train_X和用于测试的test_X只包含predictor，所以删除outcome\n",
    "train_X=train.drop(columns=['Outcome'])\n",
    "test_X=test.drop(columns=['Outcome'])\n",
    "\n",
    "# 生成用于训练的train_Y和用于测试的test_Y\n",
    "train_Y=train['Outcome']\n",
    "test_Y=test['Outcome']"
   ]
  },
  {
   "cell_type": "markdown",
   "metadata": {},
   "source": [
    "将数据打印出来确认："
   ]
  },
  {
   "cell_type": "code",
   "execution_count": 114,
   "metadata": {},
   "outputs": [
    {
     "data": {
      "text/html": [
       "<div>\n",
       "<style scoped>\n",
       "    .dataframe tbody tr th:only-of-type {\n",
       "        vertical-align: middle;\n",
       "    }\n",
       "\n",
       "    .dataframe tbody tr th {\n",
       "        vertical-align: top;\n",
       "    }\n",
       "\n",
       "    .dataframe thead th {\n",
       "        text-align: right;\n",
       "    }\n",
       "</style>\n",
       "<table border=\"1\" class=\"dataframe\">\n",
       "  <thead>\n",
       "    <tr style=\"text-align: right;\">\n",
       "      <th></th>\n",
       "      <th>Pregnancies</th>\n",
       "      <th>Glucose</th>\n",
       "      <th>BloodPressure</th>\n",
       "      <th>BMI</th>\n",
       "      <th>DiabetesPedigreeFunction</th>\n",
       "      <th>Age</th>\n",
       "    </tr>\n",
       "  </thead>\n",
       "  <tbody>\n",
       "    <tr>\n",
       "      <th>513</th>\n",
       "      <td>2</td>\n",
       "      <td>91</td>\n",
       "      <td>62</td>\n",
       "      <td>27.3</td>\n",
       "      <td>0.525</td>\n",
       "      <td>22</td>\n",
       "    </tr>\n",
       "    <tr>\n",
       "      <th>645</th>\n",
       "      <td>2</td>\n",
       "      <td>157</td>\n",
       "      <td>74</td>\n",
       "      <td>39.4</td>\n",
       "      <td>0.134</td>\n",
       "      <td>30</td>\n",
       "    </tr>\n",
       "    <tr>\n",
       "      <th>305</th>\n",
       "      <td>2</td>\n",
       "      <td>120</td>\n",
       "      <td>76</td>\n",
       "      <td>39.7</td>\n",
       "      <td>0.215</td>\n",
       "      <td>29</td>\n",
       "    </tr>\n",
       "    <tr>\n",
       "      <th>373</th>\n",
       "      <td>2</td>\n",
       "      <td>105</td>\n",
       "      <td>58</td>\n",
       "      <td>34.9</td>\n",
       "      <td>0.225</td>\n",
       "      <td>25</td>\n",
       "    </tr>\n",
       "    <tr>\n",
       "      <th>179</th>\n",
       "      <td>5</td>\n",
       "      <td>130</td>\n",
       "      <td>82</td>\n",
       "      <td>39.1</td>\n",
       "      <td>0.956</td>\n",
       "      <td>37</td>\n",
       "    </tr>\n",
       "  </tbody>\n",
       "</table>\n",
       "</div>"
      ],
      "text/plain": [
       "     Pregnancies  Glucose  BloodPressure   BMI  DiabetesPedigreeFunction  Age\n",
       "513            2       91             62  27.3                     0.525   22\n",
       "645            2      157             74  39.4                     0.134   30\n",
       "305            2      120             76  39.7                     0.215   29\n",
       "373            2      105             58  34.9                     0.225   25\n",
       "179            5      130             82  39.1                     0.956   37"
      ]
     },
     "execution_count": 114,
     "metadata": {},
     "output_type": "execute_result"
    }
   ],
   "source": [
    "train_X.head()"
   ]
  },
  {
   "cell_type": "code",
   "execution_count": 115,
   "metadata": {},
   "outputs": [
    {
     "data": {
      "text/plain": [
       "513    0\n",
       "645    0\n",
       "305    0\n",
       "373    0\n",
       "179    1\n",
       "Name: Outcome, dtype: int64"
      ]
     },
     "execution_count": 115,
     "metadata": {},
     "output_type": "execute_result"
    }
   ],
   "source": [
    "train_Y.head()"
   ]
  },
  {
   "cell_type": "markdown",
   "metadata": {},
   "source": [
    "接下来我们开始建立模型：\n",
    "\n",
    "**(3) 建模**\n",
    "\n",
    "模型的建立和训练非常简单，只需要下面这两行："
   ]
  },
  {
   "cell_type": "code",
   "execution_count": 21,
   "metadata": {},
   "outputs": [
    {
     "data": {
      "text/plain": [
       "LogisticRegression(C=1.0, class_weight=None, dual=False, fit_intercept=True,\n",
       "          intercept_scaling=1, max_iter=100, multi_class='warn',\n",
       "          n_jobs=None, penalty='l2', random_state=None, solver='warn',\n",
       "          tol=0.0001, verbose=0, warm_start=False)"
      ]
     },
     "execution_count": 21,
     "metadata": {},
     "output_type": "execute_result"
    }
   ],
   "source": [
    "# 建立一个LogisticRegression类的实例，命名为model1\n",
    "model1 = LogisticRegression()\n",
    "# 将训练数据train_X,train_Y灌入模型的fit()函数，完成训练\n",
    "model1.fit(train_X,train_Y)"
   ]
  },
  {
   "cell_type": "markdown",
   "metadata": {},
   "source": [
    "我们可以看到，以上出现了一个复杂的输出。LogisticRegression()括号中的内容就是用于进行逻辑回归训练的默认参数。这些参数不在我们教程的范畴里，我们现在只需要使用默认的参数就好。对这些参数含义感兴趣的同学可以参考官方文档：[sklearn.linear_model.LogisticRegression](https://scikit-learn.org/stable/modules/generated/sklearn.linear_model.LogisticRegression.html)\n",
    "\n",
    "**(4) 评估结果**\n",
    "\n",
    "我们可以使用metrics的accuracy_score()方法来评估预测结果的准确度。这个方法干的事情很简单，就是看预测结果有多少比例是正确的。所以accuracy_score()的返回值在0到1之间，越高说明模型的预测越准确。"
   ]
  },
  {
   "cell_type": "code",
   "execution_count": 29,
   "metadata": {},
   "outputs": [
    {
     "name": "stdout",
     "output_type": "stream",
     "text": [
      "The accuracy of the Logistic Regression Model1 is 0.7348066298342542\n"
     ]
    }
   ],
   "source": [
    "# 引入metrics用于评估模型的预测结果\n",
    "from sklearn import metrics\n",
    "# 调用模型的predict()方法，对预测数据test_X进行预测\n",
    "prediction1=model1.predict(test_X)\n",
    "# 使用metrics的accuracy_score()方法评估预测结果的准确度\n",
    "print('The accuracy of the Logistic Regression Model1 is',metrics.accuracy_score(prediction,test_Y))"
   ]
  },
  {
   "cell_type": "markdown",
   "metadata": {},
   "source": [
    "以上结果，意思是模型预测对了大约73.48%的结果。如果你得到的数值和此处不一样，这很正常。你可以思考一下造成这个偏差的原因，我们会在下一节讲解。\n",
    "\n",
    "接下来，我们对数据集2进行训练，评估model2的准确度，来和model1比较结果。\n",
    "\n",
    "**(5) 训练第二个模型**"
   ]
  },
  {
   "cell_type": "code",
   "execution_count": 37,
   "metadata": {},
   "outputs": [
    {
     "name": "stdout",
     "output_type": "stream",
     "text": [
      "The accuracy of the Logistic Regression Model2 is 0.7346938775510204\n"
     ]
    }
   ],
   "source": [
    "# 拆分数据集2\n",
    "train_2,test_2=train_test_split(diabetes_nonzero,test_size=0.25,stratify=diabetes_nonzero['Outcome'])\n",
    "\n",
    "# 用于训练的train_2_X和用于测试的test_2_X只包含predictor，所以删除outcome\n",
    "train_2_X=train_2.drop(columns=['Outcome'])\n",
    "test_2_X=test_2.drop(columns=['Outcome'])\n",
    "\n",
    "# 生成用于训练的train_2_Y和用于测试的test_2_Y\n",
    "train_2_Y=train_2['Outcome']\n",
    "test_2_Y=test_2['Outcome']\n",
    "\n",
    "# 建立一个LogisticRegression类的实例，命名为model2\n",
    "model2 = LogisticRegression()\n",
    "# 将训练数据train_2_X,train_2_Y灌入模型的fit()函数，完成训练\n",
    "model2.fit(train_2_X,train_2_Y)\n",
    "\n",
    "# 调用模型的predict()方法，对预测数据test_2_X进行预测\n",
    "prediction2=model2.predict(test_2_X)\n",
    "# 使用metrics的accuracy_score()方法评估预测结果的准确度\n",
    "print('The accuracy of the Logistic Regression Model2 is',metrics.accuracy_score(prediction2,test_2_Y))"
   ]
  },
  {
   "cell_type": "markdown",
   "metadata": {},
   "source": [
    "这样我们就得到了新的模型，并且得到了一个和model1非常相似的准确度。\n",
    "\n",
    "但是，当你执行这段代码的时候，可能会得到不同的准确度，而且结果之间可能偏差较大。我执行了5次，预测结果从0.71到0.81不等。造成波动的原因是，因为拆分数据集有随机性，并且我们的数据量比较小，所以拆分数据的随机性会对结果产生影响。\n",
    "\n",
    "由于结果的不稳定，我们很难通过以上的准确度来比较两个模型的优劣。那么，有没有更好的办法能够稳定的评估模型结果呢？\n",
    "\n",
    "有的，那就是**交叉验证（Cross Validation）**。概念是将同一份数据数据拆分成多组，训练出多个模型，对模型评估。多组的准确度去平均，从而得到更稳定、更能代表模型能力的准确度。具体如何操作我们会在下一章进行介绍。\n",
    "\n",
    "## Summary & Next\n",
    "\n",
    "通过本章的实战，我们建立了一个用于预测糖尿病的分类算法，其预测准确度约为73%。\n",
    "\n",
    "在这一章中，我们学习了：\n",
    "\n",
    "* **将数据可视化，观察数据分布：**我们绘制了数据分布图，比较了糖尿病患者/非患者的predictor分布情况，对分析的可行性有了大概的预判。\n",
    "\n",
    "* **2种处理异常数据的方式：**1）删除异常值 2）去除异常值较多的predictor。这两个方法只是冰山一角，而且并不一定是最好的处理方式。处理异常值是Data Science中很重要的一个工作，这方面我的老师Jerome P Reiter有一篇很棒的论文，推荐给大家：[Multiple Imputation for Statistical Disclosure Limitation](https://www.scb.se/contentassets/ca21efb41fee47d293bbee5bf7be7fb3/multiple-imputation-for-statistical-disclosure-limitation.pdf)\n",
    "\n",
    "* **如何建立逻辑回归模型(Logistic Regression Model)**\n",
    "\n",
    "* **如何评估逻辑回归模型的结果：**本章中我们通过分类的准确度来评估了模型的表现，也呈现了这个标准的一些局限性。下一章我们会进一步介绍如何评估分类算法的表现。\n",
    "\n",
    "大家可能发现，在目前的教程中建模的过程是很快的，而且都是使用sklearn中的方法，在建模这一步我们要做的事情不多。而更复杂的工作往往在于数据的预处理，数据探索和可视化分析。在医疗数据中尤其是这样，因为医疗数据纷繁复杂，有大量的前期工作，这也是医疗项目最大的难点之一，但同时也是非常有价值的工作。\n",
    "\n",
    "下一章我们会介绍交叉验证，再之后我们还会学习一个新的分类算法K-Nearest Neighbour。\n",
    "\n",
    "**下一章：**[3.3 基础的Data Science知识2](https://github.com/RyC37/data-science-tutorial-for-beginners/blob/master/3.3-stats-basic-2.ipynb)"
   ]
  }
 ],
 "metadata": {
  "kernelspec": {
   "display_name": "Python 3",
   "language": "python",
   "name": "python3"
  },
  "language_info": {
   "codemirror_mode": {
    "name": "ipython",
    "version": 3
   },
   "file_extension": ".py",
   "mimetype": "text/x-python",
   "name": "python",
   "nbconvert_exporter": "python",
   "pygments_lexer": "ipython3",
   "version": "3.6.0"
  }
 },
 "nbformat": 4,
 "nbformat_minor": 2
}
