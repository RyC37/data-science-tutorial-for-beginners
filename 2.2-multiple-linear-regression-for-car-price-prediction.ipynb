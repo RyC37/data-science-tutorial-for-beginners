{
 "cells": [
  {
   "cell_type": "markdown",
   "metadata": {},
   "source": [
    "# Introduction to Multiple Linear Regression\n",
    "\n",
    "在简单线性回归的代码部分，我们分析了120个二手车价格(price)和车龄(ageOfCar)之间的关系，得到了可以通过车龄来预测价格的线性模型。但是，实际的二手车市场中，影响二手车价格的因素远远不止车龄。与价格相关的还有因素诸如：行驶里程，车辆是否损坏等等。\n",
    "\n",
    "所以如果我们能够将更多的信息加入之前的模型，那么模型的预测能力应该可以进一步提升。所以在本章中，我们会利用上一节介绍的多元线性回归（Multiple Linear Regression）方法，在之前的二手车数据中加入行驶里程（kilometer）和是否车辆有损坏（isDamaged）这两个predictor，来建立一个更准确的二手车价格预测方法。\n",
    "\n",
    "在本章的教程中，你会学到：\n",
    "* 如何对predictor进行筛选\n",
    "* 如何建立哑变量（dummy variable）\n",
    "* 如何使用箱线图（boxplot）\n",
    "* 如何建立多元线性模型\n",
    "* 如何比较不同的多元线性模型的结果\n",
    "\n",
    "## 1.准备工作\n",
    "\n",
    "首先我们来引入Python库。"
   ]
  },
  {
   "cell_type": "code",
   "execution_count": 3,
   "metadata": {
    "collapsed": false
   },
   "outputs": [],
   "source": [
    "# imports\n",
    "import pandas as pd\n",
    "import matplotlib.pyplot as plt\n",
    "import numpy as np\n",
    "import statsmodels.api as sm\n",
    "\n",
    "# this allows plots to appear directly in the notebook\n",
    "%matplotlib inline"
   ]
  },
  {
   "cell_type": "markdown",
   "metadata": {},
   "source": [
    "## 2.数据探索\n",
    "\n",
    "接着，我们来读取新的二手车数据，看一看数据中包含的值。\n",
    "\n",
    "**(1) 读入数据**"
   ]
  },
  {
   "cell_type": "code",
   "execution_count": 4,
   "metadata": {},
   "outputs": [],
   "source": [
    "auto_df = pd.read_csv('./data/auto_multiple.csv', index_col=0)"
   ]
  },
  {
   "cell_type": "markdown",
   "metadata": {},
   "source": [
    "**(2) 显示数据**\n",
    "\n",
    "用`head()`打印出数据表格（dataframe）的前5行。"
   ]
  },
  {
   "cell_type": "code",
   "execution_count": 5,
   "metadata": {},
   "outputs": [
    {
     "data": {
      "text/html": [
       "<div>\n",
       "<style scoped>\n",
       "    .dataframe tbody tr th:only-of-type {\n",
       "        vertical-align: middle;\n",
       "    }\n",
       "\n",
       "    .dataframe tbody tr th {\n",
       "        vertical-align: top;\n",
       "    }\n",
       "\n",
       "    .dataframe thead th {\n",
       "        text-align: right;\n",
       "    }\n",
       "</style>\n",
       "<table border=\"1\" class=\"dataframe\">\n",
       "  <thead>\n",
       "    <tr style=\"text-align: right;\">\n",
       "      <th></th>\n",
       "      <th>name</th>\n",
       "      <th>price</th>\n",
       "      <th>kilometer</th>\n",
       "      <th>vehicleType</th>\n",
       "      <th>ageOfCar</th>\n",
       "      <th>isDamaged</th>\n",
       "    </tr>\n",
       "  </thead>\n",
       "  <tbody>\n",
       "    <tr>\n",
       "      <th>0</th>\n",
       "      <td>Volkswagen_Golf_1.4</td>\n",
       "      <td>1599</td>\n",
       "      <td>150000</td>\n",
       "      <td>limousine</td>\n",
       "      <td>18</td>\n",
       "      <td>no</td>\n",
       "    </tr>\n",
       "    <tr>\n",
       "      <th>1</th>\n",
       "      <td>Volkswagen_Golf_1.4</td>\n",
       "      <td>10300</td>\n",
       "      <td>50000</td>\n",
       "      <td>limousine</td>\n",
       "      <td>5</td>\n",
       "      <td>no</td>\n",
       "    </tr>\n",
       "    <tr>\n",
       "      <th>2</th>\n",
       "      <td>Volkswagen_Golf_1.4</td>\n",
       "      <td>1600</td>\n",
       "      <td>150000</td>\n",
       "      <td>limousine</td>\n",
       "      <td>14</td>\n",
       "      <td>no</td>\n",
       "    </tr>\n",
       "    <tr>\n",
       "      <th>3</th>\n",
       "      <td>Volkswagen_Golf_1.4</td>\n",
       "      <td>7300</td>\n",
       "      <td>70000</td>\n",
       "      <td>limousine</td>\n",
       "      <td>7</td>\n",
       "      <td>no</td>\n",
       "    </tr>\n",
       "    <tr>\n",
       "      <th>4</th>\n",
       "      <td>Volkswagen_Golf_1.4</td>\n",
       "      <td>599</td>\n",
       "      <td>125000</td>\n",
       "      <td>limousine</td>\n",
       "      <td>18</td>\n",
       "      <td>no</td>\n",
       "    </tr>\n",
       "  </tbody>\n",
       "</table>\n",
       "</div>"
      ],
      "text/plain": [
       "                  name  price  kilometer vehicleType  ageOfCar isDamaged\n",
       "0  Volkswagen_Golf_1.4   1599     150000   limousine        18        no\n",
       "1  Volkswagen_Golf_1.4  10300      50000   limousine         5        no\n",
       "2  Volkswagen_Golf_1.4   1600     150000   limousine        14        no\n",
       "3  Volkswagen_Golf_1.4   7300      70000   limousine         7        no\n",
       "4  Volkswagen_Golf_1.4    599     125000   limousine        18        no"
      ]
     },
     "execution_count": 5,
     "metadata": {},
     "output_type": "execute_result"
    }
   ],
   "source": [
    "auto_df.head()"
   ]
  },
  {
   "cell_type": "markdown",
   "metadata": {},
   "source": [
    "**(3) 数据字典**\n",
    "- ageOfCar: 车辆的使用年数。\n",
    "- name: 车的型号。\n",
    "- kilometer: 行驶公里数。\n",
    "- vehicleType: 车辆类别。\n",
    "- isDamaged: 有没有事故记录。\n",
    "- price: 二手车的出售价格。\n",
    "\n",
    "以上六个feature中，price是outcome，其它5项的是predictor。"
   ]
  },
  {
   "cell_type": "markdown",
   "metadata": {},
   "source": [
    "**(4) 数据量**\n",
    "\n",
    "用pandas的`shape()`函数查看数据表格（dataframe）的行数和列数，我们看到这个数据表中有160个observation。"
   ]
  },
  {
   "cell_type": "code",
   "execution_count": 6,
   "metadata": {
    "collapsed": false
   },
   "outputs": [
    {
     "data": {
      "text/plain": [
       "(160, 6)"
      ]
     },
     "execution_count": 6,
     "metadata": {},
     "output_type": "execute_result"
    }
   ],
   "source": [
    "auto_df.shape"
   ]
  },
  {
   "cell_type": "markdown",
   "metadata": {},
   "source": [
    "**(5) 数据质量检测**"
   ]
  },
  {
   "cell_type": "markdown",
   "metadata": {},
   "source": [
    "首先我们来进一步的看看每一项数据的内容，第一件事情我们要了解的是数据库中有没有空值。如果有空值，会在训练模型的部分引发错误，所以我们需要这一步处理空值。\n",
    "\n",
    "Pandas数据表有一个自带函数`isna()`，用于检测每一个feature的每一个值是否为空，然后返回一个同样尺寸的数据表（dataframe）。如果某个数据为空，则新的数据表对应位置的值为True，反之则为False。"
   ]
  },
  {
   "cell_type": "code",
   "execution_count": 9,
   "metadata": {},
   "outputs": [
    {
     "data": {
      "text/html": [
       "<div>\n",
       "<style scoped>\n",
       "    .dataframe tbody tr th:only-of-type {\n",
       "        vertical-align: middle;\n",
       "    }\n",
       "\n",
       "    .dataframe tbody tr th {\n",
       "        vertical-align: top;\n",
       "    }\n",
       "\n",
       "    .dataframe thead th {\n",
       "        text-align: right;\n",
       "    }\n",
       "</style>\n",
       "<table border=\"1\" class=\"dataframe\">\n",
       "  <thead>\n",
       "    <tr style=\"text-align: right;\">\n",
       "      <th></th>\n",
       "      <th>name</th>\n",
       "      <th>price</th>\n",
       "      <th>kilometer</th>\n",
       "      <th>vehicleType</th>\n",
       "      <th>ageOfCar</th>\n",
       "      <th>isDamaged</th>\n",
       "    </tr>\n",
       "  </thead>\n",
       "  <tbody>\n",
       "    <tr>\n",
       "      <th>0</th>\n",
       "      <td>False</td>\n",
       "      <td>False</td>\n",
       "      <td>False</td>\n",
       "      <td>False</td>\n",
       "      <td>False</td>\n",
       "      <td>False</td>\n",
       "    </tr>\n",
       "    <tr>\n",
       "      <th>1</th>\n",
       "      <td>False</td>\n",
       "      <td>False</td>\n",
       "      <td>False</td>\n",
       "      <td>False</td>\n",
       "      <td>False</td>\n",
       "      <td>False</td>\n",
       "    </tr>\n",
       "    <tr>\n",
       "      <th>2</th>\n",
       "      <td>False</td>\n",
       "      <td>False</td>\n",
       "      <td>False</td>\n",
       "      <td>False</td>\n",
       "      <td>False</td>\n",
       "      <td>False</td>\n",
       "    </tr>\n",
       "    <tr>\n",
       "      <th>3</th>\n",
       "      <td>False</td>\n",
       "      <td>False</td>\n",
       "      <td>False</td>\n",
       "      <td>False</td>\n",
       "      <td>False</td>\n",
       "      <td>False</td>\n",
       "    </tr>\n",
       "    <tr>\n",
       "      <th>4</th>\n",
       "      <td>False</td>\n",
       "      <td>False</td>\n",
       "      <td>False</td>\n",
       "      <td>False</td>\n",
       "      <td>False</td>\n",
       "      <td>False</td>\n",
       "    </tr>\n",
       "  </tbody>\n",
       "</table>\n",
       "</div>"
      ],
      "text/plain": [
       "    name  price  kilometer  vehicleType  ageOfCar  isDamaged\n",
       "0  False  False      False        False     False      False\n",
       "1  False  False      False        False     False      False\n",
       "2  False  False      False        False     False      False\n",
       "3  False  False      False        False     False      False\n",
       "4  False  False      False        False     False      False"
      ]
     },
     "execution_count": 9,
     "metadata": {},
     "output_type": "execute_result"
    }
   ],
   "source": [
    "auto_check_null = auto_df.isna()\n",
    "auto_check_null.head()"
   ]
  },
  {
   "cell_type": "markdown",
   "metadata": {},
   "source": [
    "我们可以用`sum()`函数将这些True/False值相加，True会自动变为1，False会自动转为0。加完后的数字，就代表每一个feature中间空值的数量。"
   ]
  },
  {
   "cell_type": "code",
   "execution_count": 10,
   "metadata": {},
   "outputs": [
    {
     "data": {
      "text/plain": [
       "name           0\n",
       "price          0\n",
       "kilometer      0\n",
       "vehicleType    0\n",
       "ageOfCar       0\n",
       "isDamaged      0\n",
       "dtype: int64"
      ]
     },
     "execution_count": 10,
     "metadata": {},
     "output_type": "execute_result"
    }
   ],
   "source": [
    "auto_check_null.sum()"
   ]
  },
  {
   "cell_type": "markdown",
   "metadata": {},
   "source": [
    "我们可以看到，没有空值，所以我们可以继续下面的分析。"
   ]
  },
  {
   "cell_type": "markdown",
   "metadata": {},
   "source": [
    "## 3.数据可视化"
   ]
  },
  {
   "cell_type": "markdown",
   "metadata": {},
   "source": [
    "接下来，我们对数据进行可视化，用图表将每个predictor与outcome的关系体现出来，看看能否发现出一些规律。\n",
    "\n",
    "5个predictor包含连续变量（continuous variable）和分类变量（categorical variable）。其中：\n",
    "* **连续变量:** 行驶公里数（kilometer）, 车龄（ageOfCar）\n",
    "* **分类变量:** 车辆类别（vehicleType）, 车辆损坏状态（isDamaged）, 车辆名称（name）\n",
    "\n",
    "对于连续变量，我们可以通过绘制散点图，来观察它们与价格（price）之间是否存在相关性。\n",
    "\n",
    "而对于分类变量，我们主要观察两点：\n",
    "1. 包含哪些类别，对应observation的数量是多少。\n",
    "2. 每个类别中价格的分布情况。\n",
    "\n",
    "\n",
    "我们先来看连续变量：\n",
    "\n",
    "**(1) 公里数（kilometer）**"
   ]
  },
  {
   "cell_type": "code",
   "execution_count": 16,
   "metadata": {},
   "outputs": [
    {
     "data": {
      "text/plain": [
       "<matplotlib.axes._subplots.AxesSubplot at 0x121f7f0b8>"
      ]
     },
     "execution_count": 16,
     "metadata": {},
     "output_type": "execute_result"
    },
    {
     "data": {
      "image/png": "[encoded data removed]",
      "text/plain": [
       "<Figure size 432x288 with 1 Axes>"
      ]
     },
     "metadata": {
      "needs_background": "light"
     },
     "output_type": "display_data"
    }
   ],
   "source": [
    "auto_df.plot(kind='scatter', x='kilometer', y='price', title='Kilometer ~ Price')"
   ]
  },
  {
   "cell_type": "markdown",
   "metadata": {},
   "source": [
    "行驶公里数（kilometer）和价格（price）之间，呈现出来一个微弱的线性关系。并且从散点图中我们能看到，kilometer的值非常的分散，都是以“万”为单位的数值，颗粒度非常大，这可能对模型的帮助会比较有限。我们在后续建模的时候，会进一步评估行驶公里数作为predictor对结果的贡献。\n",
    "\n",
    "**(2) 车龄（ageOfCar）**\n",
    "\n",
    "再来看看车龄（ageOfCar）和价格（price）之间的关系："
   ]
  },
  {
   "cell_type": "code",
   "execution_count": 18,
   "metadata": {
    "collapsed": false
   },
   "outputs": [
    {
     "data": {
      "text/plain": [
       "<matplotlib.axes._subplots.AxesSubplot at 0x122107c18>"
      ]
     },
     "execution_count": 18,
     "metadata": {},
     "output_type": "execute_result"
    },
    {
     "data": {
      "image/png": "[encoded data removed]",
      "text/plain": [
       "<Figure size 432x288 with 1 Axes>"
      ]
     },
     "metadata": {
      "needs_background": "light"
     },
     "output_type": "display_data"
    }
   ],
   "source": [
    "auto_df.plot(kind='scatter', x='ageOfCar', y='price', title='ageOfCar ~ Price')"
   ]
  },
  {
   "cell_type": "markdown",
   "metadata": {},
   "source": [
    "从上图中我们看出，车龄（ageOfCar）和价格（price）之间有一个明确的近似线性关系，随着车龄的增加，价格按照一个大致的比例降低。\n",
    "\n",
    "接下来，我们来观察分类变量。\n",
    "\n",
    "**(3) 型号（name）**\n",
    "\n",
    "对于categorical variable，第一件事情是要知道有哪几个值。Numpy有一个去除重复值的方法，叫做`unique()`。传入一个Series，`unique()`就会给出Series中有哪些值。"
   ]
  },
  {
   "cell_type": "code",
   "execution_count": 25,
   "metadata": {},
   "outputs": [
    {
     "data": {
      "text/plain": [
       "array(['Volkswagen_Golf_1.4'], dtype=object)"
      ]
     },
     "execution_count": 25,
     "metadata": {},
     "output_type": "execute_result"
    }
   ],
   "source": [
    "np.unique(auto_df['name'])"
   ]
  },
  {
   "cell_type": "markdown",
   "metadata": {},
   "source": [
    "我们发现，汽车型号（name）这个feature中只有1个值，也就是说，所有的车都是大众的高尔夫（Volkswagen Golf）。如果feature只有唯一值，那么它对预测就起不到作用，所以我们建模的时候不会使用型号（name）。\n",
    "\n",
    "**(4) 车辆类别（vehicleType）**"
   ]
  },
  {
   "cell_type": "code",
   "execution_count": 26,
   "metadata": {},
   "outputs": [
    {
     "data": {
      "text/plain": [
       "array(['coupe', 'kleinwagen', 'limousine'], dtype=object)"
      ]
     },
     "execution_count": 26,
     "metadata": {},
     "output_type": "execute_result"
    }
   ],
   "source": [
    "np.unique(auto_df['vehicleType'])"
   ]
  },
  {
   "cell_type": "markdown",
   "metadata": {},
   "source": [
    "有趣的事情发生了。同样是大众高尔夫，车辆类别却出现了三类：双门轿车（coupe），小轿车（kleinwagen），豪车（limousine）。由于这些车辆类别是由卖家自己选择的，所以这能够反映出车辆在卖家心里的地位。我们来看一看三种类别的数量占比："
   ]
  },
  {
   "cell_type": "code",
   "execution_count": 29,
   "metadata": {},
   "outputs": [
    {
     "data": {
      "text/plain": [
       "<matplotlib.axes._subplots.AxesSubplot at 0x1221d12e8>"
      ]
     },
     "execution_count": 29,
     "metadata": {},
     "output_type": "execute_result"
    },
    {
     "data": {
      "image/png": "[encoded data removed]",
      "text/plain": [
       "<Figure size 432x288 with 1 Axes>"
      ]
     },
     "metadata": {
      "needs_background": "light"
     },
     "output_type": "display_data"
    }
   ],
   "source": [
    "auto_df['vehicleType'].value_counts().plot(kind='bar')"
   ]
  },
  {
   "cell_type": "markdown",
   "metadata": {},
   "source": [
    "我们看到，绝大部分的observation中，车辆类别（vehicleType）都是豪华车。所以其能给模型带来的信息量也不多，我们决定不将其纳入建模的范畴。\n",
    "\n",
    "**(5) 事故记录（isDamaged）**"
   ]
  },
  {
   "cell_type": "code",
   "execution_count": 30,
   "metadata": {},
   "outputs": [
    {
     "data": {
      "text/plain": [
       "<matplotlib.axes._subplots.AxesSubplot at 0x122307400>"
      ]
     },
     "execution_count": 30,
     "metadata": {},
     "output_type": "execute_result"
    },
    {
     "data": {
      "image/png": "[encoded data removed]",
      "text/plain": [
       "<Figure size 432x288 with 1 Axes>"
      ]
     },
     "metadata": {
      "needs_background": "light"
     },
     "output_type": "display_data"
    }
   ],
   "source": [
    "auto_df['isDamaged'].value_counts().plot(kind='bar')"
   ]
  },
  {
   "cell_type": "markdown",
   "metadata": {},
   "source": [
    "我们可以看到，事故记录（isDamaged）是分布比较均衡的一个predictor，而且由于只有两个值（yes / no），我们可以将它转换为dummy variable，保存为新的变量名`isDamagedDummy`。\n",
    "\n",
    "首先，我们在auto_df数据表中建立名为isDamagedDummyd的feature，全部赋值为0。"
   ]
  },
  {
   "cell_type": "code",
   "execution_count": 6,
   "metadata": {},
   "outputs": [],
   "source": [
    "auto_df['isDamagedDummy'] = 0"
   ]
  },
  {
   "cell_type": "markdown",
   "metadata": {},
   "source": [
    "接着，我们利用数据表自带的定位函数`loc()`，传入两个定位参数：`auto_df['isDamaged'] == 'yes'`筛选出所有'isDamaged'值为'yes'的行，`isDamagedDummy`是新的变量名。接着，将`loc()` 函数定位的值修改为1。"
   ]
  },
  {
   "cell_type": "code",
   "execution_count": 7,
   "metadata": {},
   "outputs": [],
   "source": [
    "auto_df.loc[auto_df['isDamaged'] == 'yes', 'isDamagedDummy'] = 1"
   ]
  },
  {
   "cell_type": "code",
   "execution_count": 37,
   "metadata": {},
   "outputs": [
    {
     "data": {
      "text/html": [
       "<div>\n",
       "<style scoped>\n",
       "    .dataframe tbody tr th:only-of-type {\n",
       "        vertical-align: middle;\n",
       "    }\n",
       "\n",
       "    .dataframe tbody tr th {\n",
       "        vertical-align: top;\n",
       "    }\n",
       "\n",
       "    .dataframe thead th {\n",
       "        text-align: right;\n",
       "    }\n",
       "</style>\n",
       "<table border=\"1\" class=\"dataframe\">\n",
       "  <thead>\n",
       "    <tr style=\"text-align: right;\">\n",
       "      <th></th>\n",
       "      <th>0</th>\n",
       "      <th>1</th>\n",
       "      <th>2</th>\n",
       "      <th>3</th>\n",
       "      <th>4</th>\n",
       "    </tr>\n",
       "  </thead>\n",
       "  <tbody>\n",
       "    <tr>\n",
       "      <th>name</th>\n",
       "      <td>Volkswagen_Golf_1.4</td>\n",
       "      <td>Volkswagen_Golf_1.4</td>\n",
       "      <td>Volkswagen_Golf_1.4</td>\n",
       "      <td>Volkswagen_Golf_1.4</td>\n",
       "      <td>Volkswagen_Golf_1.4</td>\n",
       "    </tr>\n",
       "    <tr>\n",
       "      <th>price</th>\n",
       "      <td>1599</td>\n",
       "      <td>10300</td>\n",
       "      <td>1600</td>\n",
       "      <td>7300</td>\n",
       "      <td>599</td>\n",
       "    </tr>\n",
       "    <tr>\n",
       "      <th>kilometer</th>\n",
       "      <td>150000</td>\n",
       "      <td>50000</td>\n",
       "      <td>150000</td>\n",
       "      <td>70000</td>\n",
       "      <td>125000</td>\n",
       "    </tr>\n",
       "    <tr>\n",
       "      <th>vehicleType</th>\n",
       "      <td>limousine</td>\n",
       "      <td>limousine</td>\n",
       "      <td>limousine</td>\n",
       "      <td>limousine</td>\n",
       "      <td>limousine</td>\n",
       "    </tr>\n",
       "    <tr>\n",
       "      <th>ageOfCar</th>\n",
       "      <td>18</td>\n",
       "      <td>5</td>\n",
       "      <td>14</td>\n",
       "      <td>7</td>\n",
       "      <td>18</td>\n",
       "    </tr>\n",
       "    <tr>\n",
       "      <th>isDamaged</th>\n",
       "      <td>no</td>\n",
       "      <td>no</td>\n",
       "      <td>no</td>\n",
       "      <td>no</td>\n",
       "      <td>no</td>\n",
       "    </tr>\n",
       "    <tr>\n",
       "      <th>isDamagedDummy</th>\n",
       "      <td>0</td>\n",
       "      <td>0</td>\n",
       "      <td>0</td>\n",
       "      <td>0</td>\n",
       "      <td>0</td>\n",
       "    </tr>\n",
       "  </tbody>\n",
       "</table>\n",
       "</div>"
      ],
      "text/plain": [
       "                                  0                    1                    2  \\\n",
       "name            Volkswagen_Golf_1.4  Volkswagen_Golf_1.4  Volkswagen_Golf_1.4   \n",
       "price                          1599                10300                 1600   \n",
       "kilometer                    150000                50000               150000   \n",
       "vehicleType               limousine            limousine            limousine   \n",
       "ageOfCar                         18                    5                   14   \n",
       "isDamaged                        no                   no                   no   \n",
       "isDamagedDummy                    0                    0                    0   \n",
       "\n",
       "                                  3                    4  \n",
       "name            Volkswagen_Golf_1.4  Volkswagen_Golf_1.4  \n",
       "price                          7300                  599  \n",
       "kilometer                     70000               125000  \n",
       "vehicleType               limousine            limousine  \n",
       "ageOfCar                          7                   18  \n",
       "isDamaged                        no                   no  \n",
       "isDamagedDummy                    0                    0  "
      ]
     },
     "execution_count": 37,
     "metadata": {},
     "output_type": "execute_result"
    }
   ],
   "source": [
    "auto_df.head().T"
   ]
  },
  {
   "cell_type": "markdown",
   "metadata": {},
   "source": [
    "这样我们的dummy variable就创建好了，我们会用`isDamagedDummy`替代`isDamaged`来建模。\n",
    "\n",
    "接下来，我们观察一下，基于车辆损坏情况的价格分布。\n",
    "\n",
    "不同于车龄和价格，车辆损坏状态是一个非0即1的哑变量（dummy variable）。散点图主要用于体现连续变量（continuous variable）之间的关系，所以不再适用于价格（price）与车辆损坏状态（isDamaged）之间的关系表达。\n",
    "\n",
    "此处我们引入一种新的图表类型，叫做箱线图（boxplot），可以用于体现连续变量基于不同哑变量的分布规律。对于箱线图（boxplot）的解释见下图：\n",
    "\n",
    "![Boxplot Explanation](img/boxplot.png)\n",
    "\n",
    "接下来，我们就用pandas自带的boxplot()函数，来可视化车辆损坏状态（isDamaged）和价格（price）之间的关系："
   ]
  },
  {
   "cell_type": "code",
   "execution_count": 5,
   "metadata": {},
   "outputs": [
    {
     "data": {
      "text/plain": [
       "<matplotlib.axes._subplots.AxesSubplot at 0x11efad4a8>"
      ]
     },
     "execution_count": 5,
     "metadata": {},
     "output_type": "execute_result"
    },
    {
     "data": {
      "image/png": "[encoded data removed]",
      "text/plain": [
       "<Figure size 432x288 with 1 Axes>"
      ]
     },
     "metadata": {
      "needs_background": "light"
     },
     "output_type": "display_data"
    }
   ],
   "source": [
    "auto_df.boxplot(column=['price'], by='isDamaged')"
   ]
  },
  {
   "cell_type": "markdown",
   "metadata": {},
   "source": [
    "可以看到，对于有损坏的车辆，价格要低于没有损坏的车辆。然后有一些价格非常高的值，这可能是个别车况非常好的二手车，或者是个别卖家定价远高于市场水平的情况。（备注：所有数据都对应同一款车型）"
   ]
  },
  {
   "cell_type": "markdown",
   "metadata": {},
   "source": [
    "## 4.建立模型（Multiple Linear Model）\n",
    "\n",
    "**(1) 数据预处理**\n",
    "\n",
    "和simple linear regression类似，我们会得到包含3个predictor的线性模型，它的公式是：\n",
    "\n",
    "$y = \\beta_0 + \\beta_1x_1 + \\beta_2x_2 + \\beta_3x_3$\n",
    "\n",
    "这里的$x_1, x_2, x_3$就是我们的三个predictor: 车龄（ageOfCar），公里数（kilometer）和事故记录（isDamagedDummy）。\n",
    "\n",
    "接下来，我们用Statsmodels来建立Multiple Linear Regression的模型。\n",
    "\n",
    "我们将'ageOfCar', 'isDamagedDummy', 'kilometer'三个predictor赋值给X，并且加入常数1。\n",
    "\n",
    "然后将'price'赋值给Y，作为outcome。"
   ]
  },
  {
   "cell_type": "code",
   "execution_count": 8,
   "metadata": {},
   "outputs": [
    {
     "name": "stderr",
     "output_type": "stream",
     "text": [
      "/usr/local/Cellar/python3/3.6.0/Frameworks/Python.framework/Versions/3.6/lib/python3.6/site-packages/numpy/core/fromnumeric.py:2389: FutureWarning: Method .ptp is deprecated and will be removed in a future version. Use numpy.ptp instead.\n",
      "  return ptp(axis=axis, out=out, **kwargs)\n"
     ]
    }
   ],
   "source": [
    "X = auto_df[['ageOfCar', 'isDamagedDummy', 'kilometer']]\n",
    "X = sm.add_constant(X)\n",
    "Y = auto_df['price']"
   ]
  },
  {
   "cell_type": "markdown",
   "metadata": {},
   "source": [
    "我们把X和Y用`head()`函数打印出前5行，验证格式正确。"
   ]
  },
  {
   "cell_type": "code",
   "execution_count": 9,
   "metadata": {},
   "outputs": [
    {
     "data": {
      "text/html": [
       "<div>\n",
       "<style scoped>\n",
       "    .dataframe tbody tr th:only-of-type {\n",
       "        vertical-align: middle;\n",
       "    }\n",
       "\n",
       "    .dataframe tbody tr th {\n",
       "        vertical-align: top;\n",
       "    }\n",
       "\n",
       "    .dataframe thead th {\n",
       "        text-align: right;\n",
       "    }\n",
       "</style>\n",
       "<table border=\"1\" class=\"dataframe\">\n",
       "  <thead>\n",
       "    <tr style=\"text-align: right;\">\n",
       "      <th></th>\n",
       "      <th>const</th>\n",
       "      <th>ageOfCar</th>\n",
       "      <th>isDamagedDummy</th>\n",
       "      <th>kilometer</th>\n",
       "    </tr>\n",
       "  </thead>\n",
       "  <tbody>\n",
       "    <tr>\n",
       "      <th>0</th>\n",
       "      <td>1.0</td>\n",
       "      <td>18</td>\n",
       "      <td>0</td>\n",
       "      <td>150000</td>\n",
       "    </tr>\n",
       "    <tr>\n",
       "      <th>1</th>\n",
       "      <td>1.0</td>\n",
       "      <td>5</td>\n",
       "      <td>0</td>\n",
       "      <td>50000</td>\n",
       "    </tr>\n",
       "    <tr>\n",
       "      <th>2</th>\n",
       "      <td>1.0</td>\n",
       "      <td>14</td>\n",
       "      <td>0</td>\n",
       "      <td>150000</td>\n",
       "    </tr>\n",
       "    <tr>\n",
       "      <th>3</th>\n",
       "      <td>1.0</td>\n",
       "      <td>7</td>\n",
       "      <td>0</td>\n",
       "      <td>70000</td>\n",
       "    </tr>\n",
       "    <tr>\n",
       "      <th>4</th>\n",
       "      <td>1.0</td>\n",
       "      <td>18</td>\n",
       "      <td>0</td>\n",
       "      <td>125000</td>\n",
       "    </tr>\n",
       "  </tbody>\n",
       "</table>\n",
       "</div>"
      ],
      "text/plain": [
       "   const  ageOfCar  isDamagedDummy  kilometer\n",
       "0    1.0        18               0     150000\n",
       "1    1.0         5               0      50000\n",
       "2    1.0        14               0     150000\n",
       "3    1.0         7               0      70000\n",
       "4    1.0        18               0     125000"
      ]
     },
     "execution_count": 9,
     "metadata": {},
     "output_type": "execute_result"
    }
   ],
   "source": [
    "X.head()"
   ]
  },
  {
   "cell_type": "code",
   "execution_count": 45,
   "metadata": {},
   "outputs": [
    {
     "data": {
      "text/plain": [
       "0     1599\n",
       "1    10300\n",
       "2     1600\n",
       "3     7300\n",
       "4      599\n",
       "Name: price, dtype: int64"
      ]
     },
     "execution_count": 45,
     "metadata": {},
     "output_type": "execute_result"
    }
   ],
   "source": [
    "Y.head()"
   ]
  },
  {
   "cell_type": "markdown",
   "metadata": {},
   "source": [
    "**(2) 训练模型**\n",
    "\n",
    "接下来我们来训练模型，找到最佳系数$\\beta_0, \\beta_1, \\beta_2, \\beta_3$。"
   ]
  },
  {
   "cell_type": "code",
   "execution_count": 10,
   "metadata": {},
   "outputs": [],
   "source": [
    "model1 = sm.OLS(Y, X).fit()"
   ]
  },
  {
   "cell_type": "markdown",
   "metadata": {},
   "source": [
    "## 5.评估模型\n",
    "\n",
    "接下来我们看看模型的效果如何，使用`summary()`方法给出模型的参数。"
   ]
  },
  {
   "cell_type": "code",
   "execution_count": 11,
   "metadata": {},
   "outputs": [
    {
     "data": {
      "text/html": [
       "<table class=\"simpletable\">\n",
       "<caption>OLS Regression Results</caption>\n",
       "<tr>\n",
       "  <th>Dep. Variable:</th>          <td>price</td>      <th>  R-squared:         </th> <td>   0.789</td>\n",
       "</tr>\n",
       "<tr>\n",
       "  <th>Model:</th>                   <td>OLS</td>       <th>  Adj. R-squared:    </th> <td>   0.785</td>\n",
       "</tr>\n",
       "<tr>\n",
       "  <th>Method:</th>             <td>Least Squares</td>  <th>  F-statistic:       </th> <td>   194.5</td>\n",
       "</tr>\n",
       "<tr>\n",
       "  <th>Date:</th>             <td>Fri, 02 Aug 2019</td> <th>  Prob (F-statistic):</th> <td>1.70e-52</td>\n",
       "</tr>\n",
       "<tr>\n",
       "  <th>Time:</th>                 <td>23:48:46</td>     <th>  Log-Likelihood:    </th> <td> -1273.2</td>\n",
       "</tr>\n",
       "<tr>\n",
       "  <th>No. Observations:</th>      <td>   160</td>      <th>  AIC:               </th> <td>   2554.</td>\n",
       "</tr>\n",
       "<tr>\n",
       "  <th>Df Residuals:</th>          <td>   156</td>      <th>  BIC:               </th> <td>   2567.</td>\n",
       "</tr>\n",
       "<tr>\n",
       "  <th>Df Model:</th>              <td>     3</td>      <th>                     </th>     <td> </td>   \n",
       "</tr>\n",
       "<tr>\n",
       "  <th>Covariance Type:</th>      <td>nonrobust</td>    <th>                     </th>     <td> </td>   \n",
       "</tr>\n",
       "</table>\n",
       "<table class=\"simpletable\">\n",
       "<tr>\n",
       "         <td></td>           <th>coef</th>     <th>std err</th>      <th>t</th>      <th>P>|t|</th>  <th>[0.025</th>    <th>0.975]</th>  \n",
       "</tr>\n",
       "<tr>\n",
       "  <th>const</th>          <td> 1.009e+04</td> <td>  364.504</td> <td>   27.685</td> <td> 0.000</td> <td> 9371.344</td> <td> 1.08e+04</td>\n",
       "</tr>\n",
       "<tr>\n",
       "  <th>ageOfCar</th>       <td> -380.9576</td> <td>   20.540</td> <td>  -18.547</td> <td> 0.000</td> <td> -421.530</td> <td> -340.385</td>\n",
       "</tr>\n",
       "<tr>\n",
       "  <th>isDamagedDummy</th> <td> -618.4489</td> <td>  114.427</td> <td>   -5.405</td> <td> 0.000</td> <td> -844.475</td> <td> -392.423</td>\n",
       "</tr>\n",
       "<tr>\n",
       "  <th>kilometer</th>      <td>   -0.0143</td> <td>    0.002</td> <td>   -6.076</td> <td> 0.000</td> <td>   -0.019</td> <td>   -0.010</td>\n",
       "</tr>\n",
       "</table>\n",
       "<table class=\"simpletable\">\n",
       "<tr>\n",
       "  <th>Omnibus:</th>       <td>11.845</td> <th>  Durbin-Watson:     </th> <td>   2.144</td>\n",
       "</tr>\n",
       "<tr>\n",
       "  <th>Prob(Omnibus):</th> <td> 0.003</td> <th>  Jarque-Bera (JB):  </th> <td>  28.522</td>\n",
       "</tr>\n",
       "<tr>\n",
       "  <th>Skew:</th>          <td> 0.159</td> <th>  Prob(JB):          </th> <td>6.41e-07</td>\n",
       "</tr>\n",
       "<tr>\n",
       "  <th>Kurtosis:</th>      <td> 5.044</td> <th>  Cond. No.          </th> <td>9.32e+05</td>\n",
       "</tr>\n",
       "</table><br/><br/>Warnings:<br/>[1] Standard Errors assume that the covariance matrix of the errors is correctly specified.<br/>[2] The condition number is large, 9.32e+05. This might indicate that there are<br/>strong multicollinearity or other numerical problems."
      ],
      "text/plain": [
       "<class 'statsmodels.iolib.summary.Summary'>\n",
       "\"\"\"\n",
       "                            OLS Regression Results                            \n",
       "==============================================================================\n",
       "Dep. Variable:                  price   R-squared:                       0.789\n",
       "Model:                            OLS   Adj. R-squared:                  0.785\n",
       "Method:                 Least Squares   F-statistic:                     194.5\n",
       "Date:                Fri, 02 Aug 2019   Prob (F-statistic):           1.70e-52\n",
       "Time:                        23:48:46   Log-Likelihood:                -1273.2\n",
       "No. Observations:                 160   AIC:                             2554.\n",
       "Df Residuals:                     156   BIC:                             2567.\n",
       "Df Model:                           3                                         \n",
       "Covariance Type:            nonrobust                                         \n",
       "==================================================================================\n",
       "                     coef    std err          t      P>|t|      [0.025      0.975]\n",
       "----------------------------------------------------------------------------------\n",
       "const           1.009e+04    364.504     27.685      0.000    9371.344    1.08e+04\n",
       "ageOfCar        -380.9576     20.540    -18.547      0.000    -421.530    -340.385\n",
       "isDamagedDummy  -618.4489    114.427     -5.405      0.000    -844.475    -392.423\n",
       "kilometer         -0.0143      0.002     -6.076      0.000      -0.019      -0.010\n",
       "==============================================================================\n",
       "Omnibus:                       11.845   Durbin-Watson:                   2.144\n",
       "Prob(Omnibus):                  0.003   Jarque-Bera (JB):               28.522\n",
       "Skew:                           0.159   Prob(JB):                     6.41e-07\n",
       "Kurtosis:                       5.044   Cond. No.                     9.32e+05\n",
       "==============================================================================\n",
       "\n",
       "Warnings:\n",
       "[1] Standard Errors assume that the covariance matrix of the errors is correctly specified.\n",
       "[2] The condition number is large, 9.32e+05. This might indicate that there are\n",
       "strong multicollinearity or other numerical problems.\n",
       "\"\"\""
      ]
     },
     "execution_count": 11,
     "metadata": {},
     "output_type": "execute_result"
    }
   ],
   "source": [
    "model1.summary()"
   ]
  },
  {
   "cell_type": "markdown",
   "metadata": {},
   "source": [
    "比起之前仅用车龄（ageOfCar）作为predictor的simple linear regression，这个模型的R值（R-squared）值从0.692提升到0.789。说明加入新的数据（公里数，损坏记录）后，我们有了更好的模型。\n",
    "\n",
    "带入系数，模型可以写作：$price = 10090 - 380*ageOfCar -618 * isDamagedDummy - 0.0143*kilometer$\n",
    "\n",
    "这个公式表示，在其他条件相同的情况下：\n",
    "* 车龄每增加1年，价格预期会下跌380美元；\n",
    "* 有损坏记录的车，价格会比没有损坏记录的车平均便宜618元；\n",
    "* 每多开1km，价格预期下降0.0143美元；\n"
   ]
  },
  {
   "cell_type": "markdown",
   "metadata": {},
   "source": [
    "## 6.Predictor的选择\n",
    "\n",
    "虽然以上模型中，三个predictor的P值都约等于0，意味着它们都对于预测结果有显著意义。但由于我们之前对于kilometer和price的线性关系有疑问，不妨试一试如果剔除kilometer，我们的模型效果会提升还是下降。"
   ]
  },
  {
   "cell_type": "code",
   "execution_count": 12,
   "metadata": {},
   "outputs": [
    {
     "data": {
      "text/html": [
       "<table class=\"simpletable\">\n",
       "<caption>OLS Regression Results</caption>\n",
       "<tr>\n",
       "  <th>Dep. Variable:</th>          <td>price</td>      <th>  R-squared:         </th> <td>   0.739</td>\n",
       "</tr>\n",
       "<tr>\n",
       "  <th>Model:</th>                   <td>OLS</td>       <th>  Adj. R-squared:    </th> <td>   0.736</td>\n",
       "</tr>\n",
       "<tr>\n",
       "  <th>Method:</th>             <td>Least Squares</td>  <th>  F-statistic:       </th> <td>   222.5</td>\n",
       "</tr>\n",
       "<tr>\n",
       "  <th>Date:</th>             <td>Fri, 02 Aug 2019</td> <th>  Prob (F-statistic):</th> <td>1.53e-46</td>\n",
       "</tr>\n",
       "<tr>\n",
       "  <th>Time:</th>                 <td>23:48:51</td>     <th>  Log-Likelihood:    </th> <td> -1290.2</td>\n",
       "</tr>\n",
       "<tr>\n",
       "  <th>No. Observations:</th>      <td>   160</td>      <th>  AIC:               </th> <td>   2586.</td>\n",
       "</tr>\n",
       "<tr>\n",
       "  <th>Df Residuals:</th>          <td>   157</td>      <th>  BIC:               </th> <td>   2596.</td>\n",
       "</tr>\n",
       "<tr>\n",
       "  <th>Df Model:</th>              <td>     2</td>      <th>                     </th>     <td> </td>   \n",
       "</tr>\n",
       "<tr>\n",
       "  <th>Covariance Type:</th>      <td>nonrobust</td>    <th>                     </th>     <td> </td>   \n",
       "</tr>\n",
       "</table>\n",
       "<table class=\"simpletable\">\n",
       "<tr>\n",
       "         <td></td>           <th>coef</th>     <th>std err</th>      <th>t</th>      <th>P>|t|</th>  <th>[0.025</th>    <th>0.975]</th>  \n",
       "</tr>\n",
       "<tr>\n",
       "  <th>const</th>          <td> 8896.8688</td> <td>  340.241</td> <td>   26.149</td> <td> 0.000</td> <td> 8224.829</td> <td> 9568.908</td>\n",
       "</tr>\n",
       "<tr>\n",
       "  <th>ageOfCar</th>       <td> -431.1245</td> <td>   20.848</td> <td>  -20.680</td> <td> 0.000</td> <td> -472.303</td> <td> -389.946</td>\n",
       "</tr>\n",
       "<tr>\n",
       "  <th>isDamagedDummy</th> <td> -594.2428</td> <td>  126.764</td> <td>   -4.688</td> <td> 0.000</td> <td> -844.627</td> <td> -343.859</td>\n",
       "</tr>\n",
       "</table>\n",
       "<table class=\"simpletable\">\n",
       "<tr>\n",
       "  <th>Omnibus:</th>       <td>26.621</td> <th>  Durbin-Watson:     </th> <td>   2.062</td>\n",
       "</tr>\n",
       "<tr>\n",
       "  <th>Prob(Omnibus):</th> <td> 0.000</td> <th>  Jarque-Bera (JB):  </th> <td>  53.364</td>\n",
       "</tr>\n",
       "<tr>\n",
       "  <th>Skew:</th>          <td> 0.754</td> <th>  Prob(JB):          </th> <td>2.58e-12</td>\n",
       "</tr>\n",
       "<tr>\n",
       "  <th>Kurtosis:</th>      <td> 5.393</td> <th>  Cond. No.          </th> <td>    89.8</td>\n",
       "</tr>\n",
       "</table><br/><br/>Warnings:<br/>[1] Standard Errors assume that the covariance matrix of the errors is correctly specified."
      ],
      "text/plain": [
       "<class 'statsmodels.iolib.summary.Summary'>\n",
       "\"\"\"\n",
       "                            OLS Regression Results                            \n",
       "==============================================================================\n",
       "Dep. Variable:                  price   R-squared:                       0.739\n",
       "Model:                            OLS   Adj. R-squared:                  0.736\n",
       "Method:                 Least Squares   F-statistic:                     222.5\n",
       "Date:                Fri, 02 Aug 2019   Prob (F-statistic):           1.53e-46\n",
       "Time:                        23:48:51   Log-Likelihood:                -1290.2\n",
       "No. Observations:                 160   AIC:                             2586.\n",
       "Df Residuals:                     157   BIC:                             2596.\n",
       "Df Model:                           2                                         \n",
       "Covariance Type:            nonrobust                                         \n",
       "==================================================================================\n",
       "                     coef    std err          t      P>|t|      [0.025      0.975]\n",
       "----------------------------------------------------------------------------------\n",
       "const           8896.8688    340.241     26.149      0.000    8224.829    9568.908\n",
       "ageOfCar        -431.1245     20.848    -20.680      0.000    -472.303    -389.946\n",
       "isDamagedDummy  -594.2428    126.764     -4.688      0.000    -844.627    -343.859\n",
       "==============================================================================\n",
       "Omnibus:                       26.621   Durbin-Watson:                   2.062\n",
       "Prob(Omnibus):                  0.000   Jarque-Bera (JB):               53.364\n",
       "Skew:                           0.754   Prob(JB):                     2.58e-12\n",
       "Kurtosis:                       5.393   Cond. No.                         89.8\n",
       "==============================================================================\n",
       "\n",
       "Warnings:\n",
       "[1] Standard Errors assume that the covariance matrix of the errors is correctly specified.\n",
       "\"\"\""
      ]
     },
     "execution_count": 12,
     "metadata": {},
     "output_type": "execute_result"
    }
   ],
   "source": [
    "X = auto_df[['ageOfCar', 'isDamagedDummy']]\n",
    "X = sm.add_constant(X)\n",
    "Y = auto_df['price']\n",
    "model2 = sm.OLS(Y, X).fit()\n",
    "model2.summary()"
   ]
  },
  {
   "cell_type": "markdown",
   "metadata": {},
   "source": [
    "结果是，剔除公里数（kilometer）后，R值下降了5%。这说明公里数对于价格是一个有意义的predictor。\n",
    "\n",
    "R值下面有一个Adj. R-squared，翻译成**修正后的R值**，通常小于R值。下面我们来解释一下其含义：\n",
    "\n",
    "首先，加入更多的predictor不会让结果变得更糟，因为模型可以通过将系数设为0来排除新的predictor对结果的影响。\n",
    "\n",
    "但是新加入predictor会让模型变得更复杂，从而更容易使得模型过拟合。我们希望越简单的模型越好，即predictor越少越好。修正后的R值（Adj. R-squared）实际上就是在R值的基础上，根据predictor的数量加入了一定的“惩罚”。Predictor的数量越多，惩罚越大。想更深入了解的同学可以参考这一篇文章：[under-penalizes complexity](http://scott.fortmann-roe.com/docs/MeasuringError.html).\n",
    "\n",
    "用于比较当两个模型表现的时候，使用修正后的R值进行比较会给我们更全面的评估结果。在我们的模型中，移除公里数后，修正后的R值也下降了约5%。所以这进一步说明公里数对于价格是一个有意义的predictor。"
   ]
  },
  {
   "cell_type": "markdown",
   "metadata": {},
   "source": [
    "## 7.模型的应用"
   ]
  },
  {
   "cell_type": "markdown",
   "metadata": {},
   "source": [
    "**(1) 预测**\n",
    "\n",
    "根据上述分析，model1是更好的模型。我们来利用其`predict()`函数对一个车龄10年，没有损坏记录，行驶了11.9万公里的车进行价格预测："
   ]
  },
  {
   "cell_type": "code",
   "execution_count": 13,
   "metadata": {},
   "outputs": [
    {
     "data": {
      "text/plain": [
       "4585.8560290237365"
      ]
     },
     "execution_count": 13,
     "metadata": {},
     "output_type": "execute_result"
    }
   ],
   "source": [
    "# 建立用于预测的数据，数组中四个值分别代表：截距常量，ageOfCar，isDamagedDummy，kilometer\n",
    "new_X = [1, 10, 0, 119000]\n",
    "# 使用model1的predictor函数对新的车辆进行预测\n",
    "new_predictions = model1.predict(new_X)\n",
    "#结果以数组形式输出，此处的[0]是将数组中的数字取出。\n",
    "new_predictions[0] "
   ]
  },
  {
   "cell_type": "markdown",
   "metadata": {},
   "source": [
    "所以，我们预计一个车龄10年，没有损坏记录，行驶了11.9万公里的车价格约为4586美元。"
   ]
  },
  {
   "cell_type": "markdown",
   "metadata": {},
   "source": [
    "**(2) 模型的应用范围**\n",
    "\n",
    "基于训练数据的分布，我们的价格预测模型可以应用于车龄6-20年，行驶里程数为30000至150000公里之间的二手车。"
   ]
  },
  {
   "cell_type": "markdown",
   "metadata": {},
   "source": [
    "## Summary & Next\n",
    "\n",
    "本章我们利用多元线性回归（Multiple Linear Regression）建立了一个更准确的二手车价格预测模型，同时涵盖了以下的知识要点：\n",
    "\n",
    "* 如何对predictor进行筛选\n",
    "* 如何建立哑变量（dummy variable）\n",
    "* 如何使用箱线图（boxplot）\n",
    "* 如何建立多元线性模型\n",
    "* 如何比较不同的多元线性模型的结果\n",
    "\n",
    "至此，我们完成了线性回归部分的学习。利用这几章的知识，同学们也已经具备解决一些实际问题的能力了。接下来，我们会继续一起探索扩展能力的边界。\n",
    "\n",
    "下一章中，我们会介绍逻辑回归（Logistic Regression），这个分析方法常用于解决医疗领域的诊断（分类）问题。"
   ]
  }
 ],
 "metadata": {
  "kernelspec": {
   "display_name": "Python 3",
   "language": "python",
   "name": "python3"
  },
  "language_info": {
   "codemirror_mode": {
    "name": "ipython",
    "version": 3
   },
   "file_extension": ".py",
   "mimetype": "text/x-python",
   "name": "python",
   "nbconvert_exporter": "python",
   "pygments_lexer": "ipython3",
   "version": "3.6.0"
  }
 },
 "nbformat": 4,
 "nbformat_minor": 2
}
